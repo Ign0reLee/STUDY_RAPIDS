{
 "cells": [
  {
   "cell_type": "code",
   "execution_count": 1,
   "id": "5bc10fb1-6cb6-45c3-8402-d151809dd708",
   "metadata": {},
   "outputs": [
    {
     "name": "stderr",
     "output_type": "stream",
     "text": [
      "/home/cvmi_jeyoung/anaconda3/envs/torch2/lib/python3.9/site-packages/torchvision/io/image.py:13: UserWarning: Failed to load image Python extension: '/home/cvmi_jeyoung/anaconda3/envs/torch2/lib/python3.9/site-packages/torchvision/image.so: undefined symbol: _ZN3c1017RegisterOperatorsD1Ev'If you don't plan on using image functionality from `torchvision.io`, you can ignore this warning. Otherwise, there might be something wrong with your environment. Did you have `libjpeg` or `libpng` installed before building `torchvision` from source?\n",
      "  warn(\n"
     ]
    }
   ],
   "source": [
    "import sys\n",
    "import os\n",
    "import glob\n",
    "import random\n",
    "import math\n",
    "import time\n",
    "import torch; torch.utils.backcompat.broadcast_warning.enabled = True\n",
    "from torch.utils.data import DataLoader\n",
    "from torchvision import transforms, datasets\n",
    "import torch.nn as nn\n",
    "import torch.nn.functional as F\n",
    "import torch.optim\n",
    "import torch.backends.cudnn as cudnn; cudnn.benchmark = True\n",
    "from scipy.fftpack import fft, rfft, fftfreq, irfft, ifft, rfftfreq\n",
    "from scipy import signal\n",
    "import numpy as np\n",
    "import importlib\n",
    "import cv2\n",
    "class EEGDataset:\n",
    "    \n",
    "    # Constructor\n",
    "    def __init__(self, eeg_signals_path):\n",
    "        # Load EEG signals\n",
    "        loaded = torch.load(eeg_signals_path)\n",
    "\n",
    "        self.data   = loaded['dataset']        \n",
    "        self.labels = loaded[\"labels\"]\n",
    "        self.images = loaded[\"images\"]\n",
    "        \n",
    "        # Compute size\n",
    "        self.size = len(self.data)\n",
    "\n",
    "    # Get size\n",
    "    def __len__(self):\n",
    "        return self.size\n",
    "\n",
    "    # Get item\n",
    "    def __getitem__(self, i):\n",
    "        # Process EEG\n",
    "        eeg = self.data[i][\"eeg\"].float().t()\n",
    "        eeg = eeg[:,:]\n",
    "\n",
    "        # Get label\n",
    "        label = self.data[i][\"label\"]\n",
    "        \n",
    "        image = self.images[self.data[i][\"image\"]]\n",
    "        # Return\n",
    "        return eeg, image, label\n",
    "\n",
    "# Splitter class\n",
    "class Splitter:\n",
    "\n",
    "    def __init__(self, dataset, split_path, split_num=0, split_name=\"train\"):\n",
    "        # Set EEG dataset\n",
    "        self.dataset = dataset\n",
    "        # Load split\n",
    "        loaded = torch.load(split_path)\n",
    "        self.split_idx = loaded[\"splits\"][split_num][split_name]\n",
    "        # Filter data\n",
    "        self.split_idx = [i for i in self.split_idx if 450 <= self.dataset.data[i][\"eeg\"].size(1) <= 600]\n",
    "        # Compute size\n",
    "        self.size = len(self.split_idx)\n",
    "\n",
    "    # Get size\n",
    "    def __len__(self):\n",
    "        return self.size\n",
    "\n",
    "    # Get item\n",
    "    def __getitem__(self, i):\n",
    "        # Get sample from dataset\n",
    "        eeg, image, label = self.dataset[self.split_idx[i]]\n",
    "        # Return\n",
    "        return eeg, image, label\n",
    "\n",
    "\n",
    "class ToTensor(object):\n",
    "\n",
    "    r\"\"\"\n",
    "    Make Image data to tensor type\n",
    "    \"\"\"\n",
    "\n",
    "    def __call__(self, data:np.array) -> None:\n",
    "        data = torch.from_numpy(data.transpose(2, 0, 1).astype(np.float32))\n",
    "        return data\n",
    "\n"
   ]
  },
  {
   "cell_type": "code",
   "execution_count": 2,
   "id": "f08cf7cf-726c-421e-ba67-55f1387dfd2a",
   "metadata": {},
   "outputs": [],
   "source": [
    "eeg_signals_path = \"/media/NAS/EEG2IMAGE/eeg_cvpr_2017/data/eeg_signals_raw_with_mean_std.pth\"\n",
    "img_path = '/media/NAS/EEG2IMAGE/eeg_cvpr_2017/image'\n",
    "split_path = \"/media/NAS/EEG2IMAGE/eeg_cvpr_2017/data/block_splits_by_image_all.pth\"\n",
    "# Load dataset\n",
    "dataset = EEGDataset(eeg_signals_path = eeg_signals_path)\n",
    "# Create loaders\n",
    "loaders = {split: DataLoader(Splitter(dataset, split_path = split_path, \n",
    "                                    split_num = 0, \n",
    "                                    split_name = split), 1, drop_last = True, shuffle = True) for split in [\"train\", \"val\", \"test\"]}"
   ]
  },
  {
   "cell_type": "code",
   "execution_count": 6,
   "id": "6e20a46d-b068-4523-8a98-d207ef619984",
   "metadata": {},
   "outputs": [
    {
     "data": {
      "application/vnd.jupyter.widget-view+json": {
       "model_id": "6687fd03fa0943cc9b9bf7f62fb24eb5",
       "version_major": 2,
       "version_minor": 0
      },
      "text/plain": [
       "train data preprocessing...:   0%|          | 0/7959 [00:00<?, ?it/s]"
      ]
     },
     "metadata": {},
     "output_type": "display_data"
    },
    {
     "data": {
      "application/vnd.jupyter.widget-view+json": {
       "model_id": "948610c03f1b4d7aa3b9afeb0bb68b0a",
       "version_major": 2,
       "version_minor": 0
      },
      "text/plain": [
       "val data preprocessing...:   0%|          | 0/1994 [00:00<?, ?it/s]"
      ]
     },
     "metadata": {},
     "output_type": "display_data"
    },
    {
     "data": {
      "application/vnd.jupyter.widget-view+json": {
       "model_id": "8555745ee8ab43ab9551dbd3454a9c30",
       "version_major": 2,
       "version_minor": 0
      },
      "text/plain": [
       "test data preprocessing...:   0%|          | 0/1987 [00:00<?, ?it/s]"
      ]
     },
     "metadata": {},
     "output_type": "display_data"
    }
   ],
   "source": [
    "import os,sys\n",
    "from tqdm.notebook  import tqdm\n",
    "\n",
    "path = os.path.join(\".\",\"DATA\",\"raw\")\n",
    "file_name  = eeg_signals_path.split(\"/\")[-1].replace(\".pth\", \"\")\n",
    "\n",
    "for split in [\"train\", \"val\", \"test\"]:\n",
    "    for idx, (eeg, image, label) in tqdm(enumerate(loaders[split]), total = len(loaders[split]), desc = f\"{split} data preprocessing...\"):\n",
    "        data = {\"eeg\":eeg.numpy().squeeze(), \"image\":image, \"label\":label.item()}\n",
    "        torch.save(data, os.path.join(path, split, f\"{file_name}_{idx}.pth\"))\n"
   ]
  },
  {
   "cell_type": "code",
   "execution_count": null,
   "id": "d598726b-d099-448f-bdc1-9447edc8d476",
   "metadata": {},
   "outputs": [],
   "source": []
  }
 ],
 "metadata": {
  "kernelspec": {
   "display_name": "Python 3 (ipykernel)",
   "language": "python",
   "name": "python3"
  },
  "language_info": {
   "codemirror_mode": {
    "name": "ipython",
    "version": 3
   },
   "file_extension": ".py",
   "mimetype": "text/x-python",
   "name": "python",
   "nbconvert_exporter": "python",
   "pygments_lexer": "ipython3",
   "version": "3.9.18"
  }
 },
 "nbformat": 4,
 "nbformat_minor": 5
}
