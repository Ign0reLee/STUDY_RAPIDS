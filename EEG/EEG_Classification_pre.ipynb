{
 "cells": [
  {
   "cell_type": "code",
   "execution_count": 1,
   "id": "3742463e-89cc-49a1-9b1d-a229f2293ffe",
   "metadata": {},
   "outputs": [],
   "source": [
    "import os, glob\n",
    "import numpy as np\n",
    "import torch\n",
    "import shutil\n",
    "\n",
    "import pandas as pd"
   ]
  },
  {
   "cell_type": "markdown",
   "id": "deda5ee5-03a0-4d94-952a-3d787b77a142",
   "metadata": {},
   "source": [
    "##  Path Add"
   ]
  },
  {
   "cell_type": "code",
   "execution_count": 2,
   "id": "ddf43a3f-6977-4dff-b800-753ed90bde4a",
   "metadata": {},
   "outputs": [],
   "source": [
    "img_path       =\"/media/NAS/EEG2IMAGE/eeg_cvpr_2017/image\"\n",
    "eeg_train_path =glob.glob(\"/media/NAS/EEG2IMAGE/eeg_cvpr_2017/preprocessing_data/train/*\")  \n",
    "eeg_test_path  =glob.glob(\"/media/NAS/EEG2IMAGE/eeg_cvpr_2017/preprocessing_data/test/*\" )\n",
    "eeg_val_path   =glob.glob(\"/media/NAS/EEG2IMAGE/eeg_cvpr_2017/preprocessing_data/val/*\")\n",
    "data_path = \"./DATA/original\"\n",
    "parquet_path = \"./DATA/parquet\"\n",
    "eeg = eeg_train_path + eeg_test_path + eeg_val_path"
   ]
  },
  {
   "cell_type": "markdown",
   "id": "d26c292a-3469-4dbf-8c1d-9bc8fbc8720d",
   "metadata": {},
   "source": [
    "## Check Dataset's length"
   ]
  },
  {
   "cell_type": "code",
   "execution_count": 3,
   "id": "b03676c4-0835-452c-807d-9788a29564de",
   "metadata": {},
   "outputs": [
    {
     "data": {
      "text/plain": [
       "(11940,)"
      ]
     },
     "execution_count": 3,
     "metadata": {},
     "output_type": "execute_result"
    }
   ],
   "source": [
    "np.shape(eeg)"
   ]
  },
  {
   "cell_type": "markdown",
   "id": "51fd9037-8192-44de-abeb-7b1cefaf8f97",
   "metadata": {},
   "source": [
    "## Num Class Setting"
   ]
  },
  {
   "cell_type": "code",
   "execution_count": 4,
   "id": "bd555756-a797-45d2-85ba-a413c4642913",
   "metadata": {},
   "outputs": [],
   "source": [
    "n_class =40"
   ]
  },
  {
   "cell_type": "markdown",
   "id": "764fda0b-76d9-481f-a712-44e1fa07371b",
   "metadata": {},
   "source": [
    "## Check Data Folder"
   ]
  },
  {
   "cell_type": "code",
   "execution_count": 5,
   "id": "18282d0b-3a8a-4de4-b241-d2b32e200754",
   "metadata": {},
   "outputs": [],
   "source": [
    "if not os.path.exists(data_path):\n",
    "    os.mkdir(data_path)\n",
    "    for i in range(n_class):\n",
    "        os.mkdir(os.path.join(data_path, i))    "
   ]
  },
  {
   "cell_type": "markdown",
   "id": "0d913f49-254b-42b0-8596-bb589bd7b6f8",
   "metadata": {},
   "source": [
    "## Copy by class"
   ]
  },
  {
   "cell_type": "code",
   "execution_count": 6,
   "id": "bf82f3e2-de27-4b09-98a1-31131c91f3d6",
   "metadata": {},
   "outputs": [
    {
     "data": {
      "application/vnd.jupyter.widget-view+json": {
       "model_id": "03bd8c84c2e4459e994ca13ad0db7183",
       "version_major": 2,
       "version_minor": 0
      },
      "text/plain": [
       "Copy NAS data to class by data:   0%|          | 0/11940 [00:00<?, ?it/s]"
      ]
     },
     "metadata": {},
     "output_type": "display_data"
    }
   ],
   "source": [
    "for idx, eeg_data in tqdm(enumerate(eeg), desc=\"Copy NAS data to class by data\", total = len(eeg)):\n",
    "    e = torch.load(eeg_data)\n",
    "    shutil.copy2(eeg_data, os.path.join(data_path, str(e[\"label\"]), f\"{idx}.pth\"))\n",
    "    "
   ]
  },
  {
   "cell_type": "markdown",
   "id": "f6b4052b-404d-40e4-8411-016e28aae955",
   "metadata": {},
   "source": [
    "## Make Parquet"
   ]
  },
  {
   "cell_type": "code",
   "execution_count": 8,
   "id": "24004fc1-c612-4385-8ebd-8d448cf94aa3",
   "metadata": {},
   "outputs": [
    {
     "data": {
      "application/vnd.jupyter.widget-view+json": {
       "model_id": "ba023e03674e492cb5acee9f08383e73",
       "version_major": 2,
       "version_minor": 0
      },
      "text/plain": [
       "Make Parquet class 0:   0%|          | 0/300 [00:00<?, ?it/s]"
      ]
     },
     "metadata": {},
     "output_type": "display_data"
    },
    {
     "data": {
      "application/vnd.jupyter.widget-view+json": {
       "model_id": "580e0cda2e624339a858f5c0eb23a99b",
       "version_major": 2,
       "version_minor": 0
      },
      "text/plain": [
       "Make Parquet class 1:   0%|          | 0/298 [00:00<?, ?it/s]"
      ]
     },
     "metadata": {},
     "output_type": "display_data"
    },
    {
     "data": {
      "application/vnd.jupyter.widget-view+json": {
       "model_id": "8285c100997d4cae8e383eae036109ac",
       "version_major": 2,
       "version_minor": 0
      },
      "text/plain": [
       "Make Parquet class 2:   0%|          | 0/300 [00:00<?, ?it/s]"
      ]
     },
     "metadata": {},
     "output_type": "display_data"
    },
    {
     "data": {
      "application/vnd.jupyter.widget-view+json": {
       "model_id": "a4a3e51d53614a249e4f084b74b0fa2a",
       "version_major": 2,
       "version_minor": 0
      },
      "text/plain": [
       "Make Parquet class 3:   0%|          | 0/300 [00:00<?, ?it/s]"
      ]
     },
     "metadata": {},
     "output_type": "display_data"
    },
    {
     "data": {
      "application/vnd.jupyter.widget-view+json": {
       "model_id": "3c467ee433ec4d28bdb4c347545d0f95",
       "version_major": 2,
       "version_minor": 0
      },
      "text/plain": [
       "Make Parquet class 4:   0%|          | 0/300 [00:00<?, ?it/s]"
      ]
     },
     "metadata": {},
     "output_type": "display_data"
    },
    {
     "data": {
      "application/vnd.jupyter.widget-view+json": {
       "model_id": "cf0e14094a474cfe8167ea8584c87abf",
       "version_major": 2,
       "version_minor": 0
      },
      "text/plain": [
       "Make Parquet class 5:   0%|          | 0/300 [00:00<?, ?it/s]"
      ]
     },
     "metadata": {},
     "output_type": "display_data"
    },
    {
     "data": {
      "application/vnd.jupyter.widget-view+json": {
       "model_id": "b2d097a183044862beeec3155e07a363",
       "version_major": 2,
       "version_minor": 0
      },
      "text/plain": [
       "Make Parquet class 6:   0%|          | 0/299 [00:00<?, ?it/s]"
      ]
     },
     "metadata": {},
     "output_type": "display_data"
    },
    {
     "data": {
      "application/vnd.jupyter.widget-view+json": {
       "model_id": "5782d7ab2e364a7f9ab7b00077a498b6",
       "version_major": 2,
       "version_minor": 0
      },
      "text/plain": [
       "Make Parquet class 7:   0%|          | 0/300 [00:00<?, ?it/s]"
      ]
     },
     "metadata": {},
     "output_type": "display_data"
    },
    {
     "data": {
      "application/vnd.jupyter.widget-view+json": {
       "model_id": "1e5bb9361f84400685884b2619e07f32",
       "version_major": 2,
       "version_minor": 0
      },
      "text/plain": [
       "Make Parquet class 8:   0%|          | 0/300 [00:00<?, ?it/s]"
      ]
     },
     "metadata": {},
     "output_type": "display_data"
    },
    {
     "data": {
      "application/vnd.jupyter.widget-view+json": {
       "model_id": "b32f5caf213e4171babb9a44927fe8a8",
       "version_major": 2,
       "version_minor": 0
      },
      "text/plain": [
       "Make Parquet class 9:   0%|          | 0/300 [00:00<?, ?it/s]"
      ]
     },
     "metadata": {},
     "output_type": "display_data"
    },
    {
     "data": {
      "application/vnd.jupyter.widget-view+json": {
       "model_id": "e5ebcfc4134747e6a428d3c450c0dd7b",
       "version_major": 2,
       "version_minor": 0
      },
      "text/plain": [
       "Make Parquet class 10:   0%|          | 0/296 [00:00<?, ?it/s]"
      ]
     },
     "metadata": {},
     "output_type": "display_data"
    },
    {
     "data": {
      "application/vnd.jupyter.widget-view+json": {
       "model_id": "0e07a6332f504237b09f15fb16664e82",
       "version_major": 2,
       "version_minor": 0
      },
      "text/plain": [
       "Make Parquet class 11:   0%|          | 0/300 [00:00<?, ?it/s]"
      ]
     },
     "metadata": {},
     "output_type": "display_data"
    },
    {
     "data": {
      "application/vnd.jupyter.widget-view+json": {
       "model_id": "090c25b6b9ce4cd4a6014d21b09aa8ef",
       "version_major": 2,
       "version_minor": 0
      },
      "text/plain": [
       "Make Parquet class 12:   0%|          | 0/291 [00:00<?, ?it/s]"
      ]
     },
     "metadata": {},
     "output_type": "display_data"
    },
    {
     "data": {
      "application/vnd.jupyter.widget-view+json": {
       "model_id": "d27ba9a82e7a45a6a499b710851b54fe",
       "version_major": 2,
       "version_minor": 0
      },
      "text/plain": [
       "Make Parquet class 13:   0%|          | 0/300 [00:00<?, ?it/s]"
      ]
     },
     "metadata": {},
     "output_type": "display_data"
    },
    {
     "data": {
      "application/vnd.jupyter.widget-view+json": {
       "model_id": "939c7bed48fa45a7aaa8b5c8c54702be",
       "version_major": 2,
       "version_minor": 0
      },
      "text/plain": [
       "Make Parquet class 14:   0%|          | 0/300 [00:00<?, ?it/s]"
      ]
     },
     "metadata": {},
     "output_type": "display_data"
    },
    {
     "data": {
      "application/vnd.jupyter.widget-view+json": {
       "model_id": "9142a7c5c87c4e6781cd6fc1950377cf",
       "version_major": 2,
       "version_minor": 0
      },
      "text/plain": [
       "Make Parquet class 15:   0%|          | 0/300 [00:00<?, ?it/s]"
      ]
     },
     "metadata": {},
     "output_type": "display_data"
    },
    {
     "data": {
      "application/vnd.jupyter.widget-view+json": {
       "model_id": "42af526607ab476586dfe5a2e7eb3257",
       "version_major": 2,
       "version_minor": 0
      },
      "text/plain": [
       "Make Parquet class 16:   0%|          | 0/297 [00:00<?, ?it/s]"
      ]
     },
     "metadata": {},
     "output_type": "display_data"
    },
    {
     "data": {
      "application/vnd.jupyter.widget-view+json": {
       "model_id": "45a1a71a1020463c9d455c2c2d214ce3",
       "version_major": 2,
       "version_minor": 0
      },
      "text/plain": [
       "Make Parquet class 17:   0%|          | 0/300 [00:00<?, ?it/s]"
      ]
     },
     "metadata": {},
     "output_type": "display_data"
    },
    {
     "data": {
      "application/vnd.jupyter.widget-view+json": {
       "model_id": "b65931b0135641aba0637e7e4839da9b",
       "version_major": 2,
       "version_minor": 0
      },
      "text/plain": [
       "Make Parquet class 18:   0%|          | 0/294 [00:00<?, ?it/s]"
      ]
     },
     "metadata": {},
     "output_type": "display_data"
    },
    {
     "data": {
      "application/vnd.jupyter.widget-view+json": {
       "model_id": "81a307b6c4d649089599a300e4ef0501",
       "version_major": 2,
       "version_minor": 0
      },
      "text/plain": [
       "Make Parquet class 19:   0%|          | 0/300 [00:00<?, ?it/s]"
      ]
     },
     "metadata": {},
     "output_type": "display_data"
    },
    {
     "data": {
      "application/vnd.jupyter.widget-view+json": {
       "model_id": "34233d7880b74e10a4553eb20bdb87fa",
       "version_major": 2,
       "version_minor": 0
      },
      "text/plain": [
       "Make Parquet class 20:   0%|          | 0/300 [00:00<?, ?it/s]"
      ]
     },
     "metadata": {},
     "output_type": "display_data"
    },
    {
     "data": {
      "application/vnd.jupyter.widget-view+json": {
       "model_id": "0f9121dff3aa410b92f1b572dfe51be5",
       "version_major": 2,
       "version_minor": 0
      },
      "text/plain": [
       "Make Parquet class 21:   0%|          | 0/300 [00:00<?, ?it/s]"
      ]
     },
     "metadata": {},
     "output_type": "display_data"
    },
    {
     "data": {
      "application/vnd.jupyter.widget-view+json": {
       "model_id": "fc8c5997c07b4fd79c95452e95e11258",
       "version_major": 2,
       "version_minor": 0
      },
      "text/plain": [
       "Make Parquet class 22:   0%|          | 0/298 [00:00<?, ?it/s]"
      ]
     },
     "metadata": {},
     "output_type": "display_data"
    },
    {
     "data": {
      "application/vnd.jupyter.widget-view+json": {
       "model_id": "79d67900c4624e3f869fc98309294b27",
       "version_major": 2,
       "version_minor": 0
      },
      "text/plain": [
       "Make Parquet class 23:   0%|          | 0/300 [00:00<?, ?it/s]"
      ]
     },
     "metadata": {},
     "output_type": "display_data"
    },
    {
     "data": {
      "application/vnd.jupyter.widget-view+json": {
       "model_id": "c023730731e145f7b46e50b3b1744311",
       "version_major": 2,
       "version_minor": 0
      },
      "text/plain": [
       "Make Parquet class 24:   0%|          | 0/300 [00:00<?, ?it/s]"
      ]
     },
     "metadata": {},
     "output_type": "display_data"
    },
    {
     "data": {
      "application/vnd.jupyter.widget-view+json": {
       "model_id": "5e9dd5a3d0bd4e2bb6c9429fbcdef5b8",
       "version_major": 2,
       "version_minor": 0
      },
      "text/plain": [
       "Make Parquet class 25:   0%|          | 0/294 [00:00<?, ?it/s]"
      ]
     },
     "metadata": {},
     "output_type": "display_data"
    },
    {
     "data": {
      "application/vnd.jupyter.widget-view+json": {
       "model_id": "bf100306ea774a14a2d6c703bdfe6c25",
       "version_major": 2,
       "version_minor": 0
      },
      "text/plain": [
       "Make Parquet class 26:   0%|          | 0/291 [00:00<?, ?it/s]"
      ]
     },
     "metadata": {},
     "output_type": "display_data"
    },
    {
     "data": {
      "application/vnd.jupyter.widget-view+json": {
       "model_id": "f2386f38813d40899e5776526a05168b",
       "version_major": 2,
       "version_minor": 0
      },
      "text/plain": [
       "Make Parquet class 27:   0%|          | 0/300 [00:00<?, ?it/s]"
      ]
     },
     "metadata": {},
     "output_type": "display_data"
    },
    {
     "data": {
      "application/vnd.jupyter.widget-view+json": {
       "model_id": "f32c1a8adf3e46bd81989884b800956a",
       "version_major": 2,
       "version_minor": 0
      },
      "text/plain": [
       "Make Parquet class 28:   0%|          | 0/300 [00:00<?, ?it/s]"
      ]
     },
     "metadata": {},
     "output_type": "display_data"
    },
    {
     "data": {
      "application/vnd.jupyter.widget-view+json": {
       "model_id": "0089c383545249ec8bbc6e346edad459",
       "version_major": 2,
       "version_minor": 0
      },
      "text/plain": [
       "Make Parquet class 29:   0%|          | 0/300 [00:00<?, ?it/s]"
      ]
     },
     "metadata": {},
     "output_type": "display_data"
    },
    {
     "data": {
      "application/vnd.jupyter.widget-view+json": {
       "model_id": "fe852e3c47c948728e003b63642648c9",
       "version_major": 2,
       "version_minor": 0
      },
      "text/plain": [
       "Make Parquet class 30:   0%|          | 0/300 [00:00<?, ?it/s]"
      ]
     },
     "metadata": {},
     "output_type": "display_data"
    },
    {
     "data": {
      "application/vnd.jupyter.widget-view+json": {
       "model_id": "0babb4fe1f1b4eb09ca8df9fda3a2c49",
       "version_major": 2,
       "version_minor": 0
      },
      "text/plain": [
       "Make Parquet class 31:   0%|          | 0/300 [00:00<?, ?it/s]"
      ]
     },
     "metadata": {},
     "output_type": "display_data"
    },
    {
     "data": {
      "application/vnd.jupyter.widget-view+json": {
       "model_id": "f2c167e48dba49b4819bb12e96442ced",
       "version_major": 2,
       "version_minor": 0
      },
      "text/plain": [
       "Make Parquet class 32:   0%|          | 0/300 [00:00<?, ?it/s]"
      ]
     },
     "metadata": {},
     "output_type": "display_data"
    },
    {
     "data": {
      "application/vnd.jupyter.widget-view+json": {
       "model_id": "f876f0cf19ac4c3f8de02293350e6c16",
       "version_major": 2,
       "version_minor": 0
      },
      "text/plain": [
       "Make Parquet class 33:   0%|          | 0/282 [00:00<?, ?it/s]"
      ]
     },
     "metadata": {},
     "output_type": "display_data"
    },
    {
     "data": {
      "application/vnd.jupyter.widget-view+json": {
       "model_id": "f8f1e153e63748b7a6b112d7af71c69d",
       "version_major": 2,
       "version_minor": 0
      },
      "text/plain": [
       "Make Parquet class 34:   0%|          | 0/300 [00:00<?, ?it/s]"
      ]
     },
     "metadata": {},
     "output_type": "display_data"
    },
    {
     "data": {
      "application/vnd.jupyter.widget-view+json": {
       "model_id": "04af16a42b764313a4564069fffb3b49",
       "version_major": 2,
       "version_minor": 0
      },
      "text/plain": [
       "Make Parquet class 35:   0%|          | 0/300 [00:00<?, ?it/s]"
      ]
     },
     "metadata": {},
     "output_type": "display_data"
    },
    {
     "data": {
      "application/vnd.jupyter.widget-view+json": {
       "model_id": "d74a9d21491742bdb42d01652081e8ab",
       "version_major": 2,
       "version_minor": 0
      },
      "text/plain": [
       "Make Parquet class 36:   0%|          | 0/300 [00:00<?, ?it/s]"
      ]
     },
     "metadata": {},
     "output_type": "display_data"
    },
    {
     "data": {
      "application/vnd.jupyter.widget-view+json": {
       "model_id": "b639824b84ab4c799f441b28947dc720",
       "version_major": 2,
       "version_minor": 0
      },
      "text/plain": [
       "Make Parquet class 37:   0%|          | 0/300 [00:00<?, ?it/s]"
      ]
     },
     "metadata": {},
     "output_type": "display_data"
    },
    {
     "data": {
      "application/vnd.jupyter.widget-view+json": {
       "model_id": "902e8729b9694bb9a88575c5ccc1d29f",
       "version_major": 2,
       "version_minor": 0
      },
      "text/plain": [
       "Make Parquet class 38:   0%|          | 0/300 [00:00<?, ?it/s]"
      ]
     },
     "metadata": {},
     "output_type": "display_data"
    },
    {
     "data": {
      "application/vnd.jupyter.widget-view+json": {
       "model_id": "fb28a7c47bf34bbebceeb3a66c617fac",
       "version_major": 2,
       "version_minor": 0
      },
      "text/plain": [
       "Make Parquet class 39:   0%|          | 0/300 [00:00<?, ?it/s]"
      ]
     },
     "metadata": {},
     "output_type": "display_data"
    }
   ],
   "source": [
    "for n in range(n_class):\n",
    "    eeg_lst = []\n",
    "    for p in tqdm(glob.glob(os.path.join(data_path, f\"{n}\", \"*\")), desc=f\"Make Parquet class {n}\"):\n",
    "        eeg_lst.append(torch.load(p)[\"eeg\"].flatten())\n",
    "    eeg_lst = pd.DataFrame(np.array(eeg_lst))\n",
    "    eeg_lst.columns = eeg_lst.columns.astype(\"str\")\n",
    "    eeg_lst.to_parquet(os.path.join(parquet_path, f\"{n}.parquet\"))"
   ]
  },
  {
   "cell_type": "code",
   "execution_count": null,
   "id": "313eda1e-8735-4d79-964d-c43ec1fb3f90",
   "metadata": {},
   "outputs": [],
   "source": []
  }
 ],
 "metadata": {
  "kernelspec": {
   "display_name": "Python 3 (ipykernel)",
   "language": "python",
   "name": "python3"
  },
  "language_info": {
   "codemirror_mode": {
    "name": "ipython",
    "version": 3
   },
   "file_extension": ".py",
   "mimetype": "text/x-python",
   "name": "python",
   "nbconvert_exporter": "python",
   "pygments_lexer": "ipython3",
   "version": "3.9.18"
  }
 },
 "nbformat": 4,
 "nbformat_minor": 5
}
