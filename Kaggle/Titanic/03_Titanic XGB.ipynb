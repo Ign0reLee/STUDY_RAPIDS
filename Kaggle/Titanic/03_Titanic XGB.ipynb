{
 "cells": [
  {
   "cell_type": "markdown",
   "id": "e93e855d-f4d7-4ef9-a2c5-d2c69366743b",
   "metadata": {},
   "source": [
    "# Grid Search with dask ml\n",
    "\n",
    "```cmd\n",
    "conda install dask-ml -y\n",
    "```"
   ]
  },
  {
   "cell_type": "code",
   "execution_count": 1,
   "id": "ea01469f-caea-4d47-aeb6-ab91148e2163",
   "metadata": {},
   "outputs": [],
   "source": [
    "import time\n",
    "\n",
    "import cupy as cp\n",
    "\n",
    "import cudf\n",
    "import dask\n",
    "import dask_cudf\n",
    "import dask.dataframe as dd\n",
    "dask.config.set({\"dataframe.backend\": \"cudf\"})\n",
    "\n",
    "from dask_ml.model_selection import  GridSearchCV as GSCV\n",
    "from cuml.model_selection import train_test_split, GridSearchCV\n",
    "from cuml.metrics import accuracy_score\n",
    "\n",
    "import xgboost as xgb\n",
    "from xgboost import XGBClassifier"
   ]
  },
  {
   "cell_type": "code",
   "execution_count": 2,
   "id": "29a3740e-931d-4571-99ae-467770bde874",
   "metadata": {},
   "outputs": [],
   "source": [
    "class Timer:\n",
    "    def __init__(self, name=\"cpu\"):\n",
    "        self.name = name\n",
    "        \n",
    "    def __enter__(self):\n",
    "        self.start = time.perf_counter()\n",
    "        \n",
    "    def __exit__(self, type, value, trackback):\n",
    "        self.end = time.perf_counter()\n",
    "        self.execute_time = self.end - self.start\n",
    "        print(f\"{self.name} execute time : {self.execute_time:.4f} seconds\")"
   ]
  },
  {
   "cell_type": "code",
   "execution_count": 3,
   "id": "59cbf8c2-a623-4cbf-854a-0e50ab4cd7d6",
   "metadata": {},
   "outputs": [
    {
     "name": "stdout",
     "output_type": "stream",
     "text": [
      "dask read parquet execute time : 0.0375 seconds\n"
     ]
    }
   ],
   "source": [
    "with Timer(name=\"dask read parquet\") as dask_time:\n",
    "    train_dask = dd.read_parquet(\"./data/train.parquet\")\n",
    "    test_dask  = dd.read_parquet(\"./data/test.parquet\")"
   ]
  },
  {
   "cell_type": "code",
   "execution_count": 4,
   "id": "2cfc8d6e-b67f-4697-b0a8-9a6dd336633a",
   "metadata": {},
   "outputs": [],
   "source": [
    "def preprocess_data(data):\n",
    "    # Convert categorical variables into numerical\n",
    "    data = dd.reshape.get_dummies(data.categorize(), columns=[\"Sex\", \"Embarked\"])\n",
    "    # Fill missing values in Age and Fare with median\n",
    "    data[\"Age\"] = data[\"Age\"].fillna(data[\"Age\"].median())\n",
    "    data[\"Fare\"] = data[\"Fare\"].fillna(data[\"Fare\"].median())\n",
    "    # Drop unnecessary columns\n",
    "    data = data.drop([\"PassengerId\", \"Name\", \"Ticket\", \"Cabin\"], axis=1)\n",
    "    return data\n"
   ]
  },
  {
   "cell_type": "code",
   "execution_count": 5,
   "id": "293f563b-7a36-4cfd-9e32-dd3f07812100",
   "metadata": {},
   "outputs": [],
   "source": [
    "train_dask = train_dask.persist()\n",
    "test_dask  = test_dask.persist()"
   ]
  },
  {
   "cell_type": "code",
   "execution_count": 6,
   "id": "51609208-f535-4f7b-a615-b699fe85653a",
   "metadata": {},
   "outputs": [
    {
     "name": "stdout",
     "output_type": "stream",
     "text": [
      "dask preprocessed execute time : 0.3023 seconds\n"
     ]
    }
   ],
   "source": [
    "with Timer(name=\"dask preprocessed\") as dask_time:\n",
    "    train_dask = preprocess_data(train_dask)\n",
    "    test_dask  = preprocess_data(test_dask)"
   ]
  },
  {
   "cell_type": "code",
   "execution_count": 7,
   "id": "3f6eb630-df5d-4608-b50b-8d197bbd800c",
   "metadata": {
    "scrolled": true
   },
   "outputs": [
    {
     "data": {
      "application/vnd.jupyter.widget-view+json": {
       "model_id": "6de9168f11a34dde8707b36b1f826310",
       "version_major": 2,
       "version_minor": 0
      },
      "text/plain": [
       "CytoscapeWidget(cytoscape_layout={'name': 'dagre', 'rankDir': 'BT', 'nodeSep': 10, 'edgeSep': 10, 'spacingFact…"
      ]
     },
     "execution_count": 7,
     "metadata": {},
     "output_type": "execute_result"
    }
   ],
   "source": [
    "train_dask.visualize()"
   ]
  },
  {
   "cell_type": "code",
   "execution_count": 8,
   "id": "124dde03-33d1-424b-bb75-fa5a3f527781",
   "metadata": {},
   "outputs": [],
   "source": [
    "train_dask = train_dask.persist()\n",
    "test_dask  = test_dask.persist()"
   ]
  },
  {
   "cell_type": "code",
   "execution_count": 9,
   "id": "10fd7741-f3d6-4d1d-b05f-216bc307c5d3",
   "metadata": {},
   "outputs": [
    {
     "name": "stdout",
     "output_type": "stream",
     "text": [
      "Train Valid Split execute time : 0.0316 seconds\n"
     ]
    }
   ],
   "source": [
    "with Timer(name=\"Train Valid Split\") as dask_time:\n",
    "    X_train = train_dask.drop(\"Survived\", axis=1).compute()\n",
    "    y_train = train_dask[\"Survived\"].compute()\n",
    "    X_train, X_val, y_train, y_val = train_test_split(X_train, y_train, test_size=0.2, random_state=42)"
   ]
  },
  {
   "cell_type": "code",
   "execution_count": 10,
   "id": "86700d3b-68a6-48fd-9e9e-3f794d21aabf",
   "metadata": {},
   "outputs": [],
   "source": [
    "model = XGBClassifier(tree_method=\"gpu_hist\")\n",
    "\n",
    "param_grid = {\n",
    "    \"max_depth\": [10,30,50],\n",
    "    \"min_child_weight\" : [1,3,6,10],\n",
    "    \"n_estimators\": [200,300,500,1000],\n",
    "    \"learning_rate\": [0.1, 0.01, 0.001],\n",
    "}"
   ]
  },
  {
   "cell_type": "code",
   "execution_count": 11,
   "id": "39f3d306-86aa-4686-814c-be29eaa7ac57",
   "metadata": {},
   "outputs": [
    {
     "name": "stdout",
     "output_type": "stream",
     "text": [
      "grid search with xgb execute time : 542.6457 seconds\n"
     ]
    }
   ],
   "source": [
    "with Timer(name=\"grid search with xgb\") as dask_time:\n",
    "    # Perform grid search to find the best hyperparameters\n",
    "    grid_search = GSCV(model, param_grid, cv=5, scoring='accuracy')\n",
    "    grid_search.fit(X_train, y_train.to_numpy())\n",
    "    \n",
    "    # Get the best model\n",
    "    best_model = grid_search.best_estimator_"
   ]
  },
  {
   "cell_type": "code",
   "execution_count": 12,
   "id": "ebbb6a7e-fd77-45f1-9da2-e5fa918a3cc3",
   "metadata": {},
   "outputs": [
    {
     "name": "stdout",
     "output_type": "stream",
     "text": [
      "Training Accuracy: 0.9214586019515991\n",
      "Validation Accuracy: 0.8146067261695862\n",
      "xgb gpu inference execute time : 0.0597 seconds\n"
     ]
    }
   ],
   "source": [
    "with Timer(name=\"xgb gpu inference\") as dask_time:\n",
    "    y_pred_train = best_model.predict(X_train)\n",
    "    train_accuracy = accuracy_score(y_train, y_pred_train)\n",
    "    print(\"Training Accuracy:\", train_accuracy)\n",
    "    \n",
    "    y_pred_val = best_model.predict(X_val)\n",
    "    val_accuracy = accuracy_score(y_val, y_pred_val)\n",
    "    print(\"Validation Accuracy:\", val_accuracy)"
   ]
  },
  {
   "cell_type": "code",
   "execution_count": 13,
   "id": "8b2fb937-747c-4d38-ac02-823fd615382a",
   "metadata": {},
   "outputs": [],
   "source": [
    "test_predictions = best_model.predict(test_dask.compute())\n",
    "\n",
    "# Prepare submission file\n",
    "submission_df = cudf.DataFrame({\n",
    "    \"PassengerId\": range(892, 892 + len(test_predictions)),\n",
    "    \"Survived\": test_predictions\n",
    "})\n",
    "\n",
    "# Save submission file\n",
    "submission_df.to_csv(\"submission_xgb.csv\", index=False)"
   ]
  },
  {
   "cell_type": "markdown",
   "id": "b7b1af86-c7f0-4d4e-aba2-fa3bac76a29d",
   "metadata": {},
   "source": [
    "# CPU Example"
   ]
  },
  {
   "cell_type": "code",
   "execution_count": 14,
   "id": "13876eb4-a692-47c5-9a7b-bbd79434e6e4",
   "metadata": {},
   "outputs": [],
   "source": [
    "model = XGBClassifier()\n",
    "\n",
    "# Define hyperparameters to tune\n",
    "param_grid = {\n",
    "    \"max_depth\": [10,30,50],\n",
    "    \"min_child_weight\" : [1,3,6,10],\n",
    "    \"n_estimators\": [200,300,500,1000],\n",
    "    \"learning_rate\": [0.1, 0.01, 0.001],\n",
    "}"
   ]
  },
  {
   "cell_type": "code",
   "execution_count": 15,
   "id": "9f8686bb-a508-45e9-8443-fd83e81cb5e5",
   "metadata": {},
   "outputs": [
    {
     "name": "stdout",
     "output_type": "stream",
     "text": [
      "Fitting 5 folds for each of 144 candidates, totalling 720 fits\n",
      "grid search with xgb execute time : 263.6332 seconds\n"
     ]
    }
   ],
   "source": [
    "with Timer(name=\"grid search with xgb\") as dask_time:\n",
    "    # Perform grid search to find the best hyperparameters\n",
    "    grid_search = GridSearchCV(model, param_grid, cv=5, scoring='accuracy', verbose=1)\n",
    "    grid_search.fit(X_train, y_train.to_numpy())\n",
    "    \n",
    "    # Get the best model\n",
    "    best_model = grid_search.best_estimator_"
   ]
  },
  {
   "cell_type": "code",
   "execution_count": 16,
   "id": "a85f0db6-ace2-4859-80b9-ee9e9ebfd954",
   "metadata": {},
   "outputs": [
    {
     "name": "stdout",
     "output_type": "stream",
     "text": [
      "Training Accuracy: 0.8906030654907227\n",
      "Validation Accuracy: 0.8202247023582458\n",
      "xgb cpu inference execute time : 0.0312 seconds\n"
     ]
    }
   ],
   "source": [
    "with Timer(name=\"xgb cpu inference\") as dask_time:\n",
    "    y_pred_train = best_model.predict(X_train)\n",
    "    train_accuracy = accuracy_score(y_train, y_pred_train)\n",
    "    print(\"Training Accuracy:\", train_accuracy)\n",
    "    \n",
    "    y_pred_val = best_model.predict(X_val)\n",
    "    val_accuracy = accuracy_score(y_val, y_pred_val)\n",
    "    print(\"Validation Accuracy:\", val_accuracy)"
   ]
  }
 ],
 "metadata": {
  "kernelspec": {
   "display_name": "Python 3 (ipykernel)",
   "language": "python",
   "name": "python3"
  },
  "language_info": {
   "codemirror_mode": {
    "name": "ipython",
    "version": 3
   },
   "file_extension": ".py",
   "mimetype": "text/x-python",
   "name": "python",
   "nbconvert_exporter": "python",
   "pygments_lexer": "ipython3",
   "version": "3.9.18"
  }
 },
 "nbformat": 4,
 "nbformat_minor": 5
}
