{
 "cells": [
  {
   "cell_type": "markdown",
   "id": "36f1c391-ef03-426e-b19b-a4d376915fd3",
   "metadata": {},
   "source": [
    "# Import Moudles\n",
    "---\n",
    "\n",
    "Import CPU vs GPU all code\n",
    "\n",
    "If you want to see how many utilize your gpu, run below on terminal\n",
    "\n",
    "```cmd\n",
    "watch -n 0.1 nvidia-smi\n",
    "```"
   ]
  },
  {
   "cell_type": "code",
   "execution_count": 1,
   "id": "1cdee908-a714-4a39-8deb-9d7ea63d00b3",
   "metadata": {},
   "outputs": [],
   "source": [
    "import time\n",
    "\n",
    "import cupy as cp\n",
    "import numpy as np\n",
    "\n",
    "import cudf\n",
    "import pandas as pd\n",
    "\n",
    "from sklearn.ensemble import RandomForestClassifier as RF_cpu\n",
    "from cuml.ensemble    import RandomForestClassifier as RF_gpu"
   ]
  },
  {
   "cell_type": "markdown",
   "id": "914fb0ea-0b81-4c9b-8fde-59031fd28ada",
   "metadata": {},
   "source": [
    "# Make Timer Class\n",
    "---\n",
    "\n",
    "Always Check Time \n",
    "\n",
    "CPU based code vs GPU based code"
   ]
  },
  {
   "cell_type": "code",
   "execution_count": 2,
   "id": "751a154b-9fc2-4fc5-ba72-6619a0f24659",
   "metadata": {},
   "outputs": [],
   "source": [
    "class Timer:\n",
    "    def __init__(self, name=\"cpu\"):\n",
    "        self.name = name\n",
    "        \n",
    "    def __enter__(self):\n",
    "        self.start = time.perf_counter()\n",
    "        \n",
    "    def __exit__(self, type, value, trackback):\n",
    "        self.end = time.perf_counter()\n",
    "        self.execute_time = self.end - self.start\n",
    "        print(f\"{self.name} execute time : {self.execute_time:.4f} seconds\")"
   ]
  },
  {
   "cell_type": "markdown",
   "id": "a912ec3e-4ccd-466b-b622-1ba4f87c9c1d",
   "metadata": {},
   "source": [
    "# Load Data"
   ]
  },
  {
   "cell_type": "code",
   "execution_count": 3,
   "id": "0d33107d-d882-497a-867b-e3a1bdd447ba",
   "metadata": {},
   "outputs": [
    {
     "name": "stdout",
     "output_type": "stream",
     "text": [
      "['data/gender_submission.csv', 'data/train.csv', 'data/train.parquet', 'data/test.csv', 'data/test.parquet']\n"
     ]
    }
   ],
   "source": [
    "import os\n",
    "import glob\n",
    "\n",
    "path = glob.glob(os.path.join(\"data\", \"*\"))\n",
    "print(path)"
   ]
  },
  {
   "cell_type": "code",
   "execution_count": 4,
   "id": "3b3df957-3542-4182-990a-02a098e24cd7",
   "metadata": {},
   "outputs": [
    {
     "name": "stdout",
     "output_type": "stream",
     "text": [
      "cpu execute time : 0.0077 seconds\n",
      "gpu execute time : 0.3630 seconds\n"
     ]
    }
   ],
   "source": [
    "with Timer(name=\"cpu\") as cpu_time:\n",
    "    train_data_cpu = pd.read_csv(\"./data/train.csv\")\n",
    "    test_data_cpu  = pd.read_csv(\"./data/test.csv\")\n",
    "\n",
    "with Timer(name=\"gpu\") as gpu_time:\n",
    "    train_data_gpu = cudf.read_csv(\"./data/train.csv\")\n",
    "    test_data_gpu  = cudf.read_csv(\"./data/test.csv\")"
   ]
  },
  {
   "cell_type": "code",
   "execution_count": 5,
   "id": "a1439bd1-3115-4f18-8c5f-6faa54878072",
   "metadata": {},
   "outputs": [
    {
     "data": {
      "text/html": [
       "<div>\n",
       "<style scoped>\n",
       "    .dataframe tbody tr th:only-of-type {\n",
       "        vertical-align: middle;\n",
       "    }\n",
       "\n",
       "    .dataframe tbody tr th {\n",
       "        vertical-align: top;\n",
       "    }\n",
       "\n",
       "    .dataframe thead th {\n",
       "        text-align: right;\n",
       "    }\n",
       "</style>\n",
       "<table border=\"1\" class=\"dataframe\">\n",
       "  <thead>\n",
       "    <tr style=\"text-align: right;\">\n",
       "      <th></th>\n",
       "      <th>PassengerId</th>\n",
       "      <th>Survived</th>\n",
       "      <th>Pclass</th>\n",
       "      <th>Name</th>\n",
       "      <th>Sex</th>\n",
       "      <th>Age</th>\n",
       "      <th>SibSp</th>\n",
       "      <th>Parch</th>\n",
       "      <th>Ticket</th>\n",
       "      <th>Fare</th>\n",
       "      <th>Cabin</th>\n",
       "      <th>Embarked</th>\n",
       "    </tr>\n",
       "  </thead>\n",
       "  <tbody>\n",
       "    <tr>\n",
       "      <th>0</th>\n",
       "      <td>1</td>\n",
       "      <td>0</td>\n",
       "      <td>3</td>\n",
       "      <td>Braund, Mr. Owen Harris</td>\n",
       "      <td>male</td>\n",
       "      <td>22.0</td>\n",
       "      <td>1</td>\n",
       "      <td>0</td>\n",
       "      <td>A/5 21171</td>\n",
       "      <td>7.2500</td>\n",
       "      <td>NaN</td>\n",
       "      <td>S</td>\n",
       "    </tr>\n",
       "    <tr>\n",
       "      <th>1</th>\n",
       "      <td>2</td>\n",
       "      <td>1</td>\n",
       "      <td>1</td>\n",
       "      <td>Cumings, Mrs. John Bradley (Florence Briggs Th...</td>\n",
       "      <td>female</td>\n",
       "      <td>38.0</td>\n",
       "      <td>1</td>\n",
       "      <td>0</td>\n",
       "      <td>PC 17599</td>\n",
       "      <td>71.2833</td>\n",
       "      <td>C85</td>\n",
       "      <td>C</td>\n",
       "    </tr>\n",
       "    <tr>\n",
       "      <th>2</th>\n",
       "      <td>3</td>\n",
       "      <td>1</td>\n",
       "      <td>3</td>\n",
       "      <td>Heikkinen, Miss. Laina</td>\n",
       "      <td>female</td>\n",
       "      <td>26.0</td>\n",
       "      <td>0</td>\n",
       "      <td>0</td>\n",
       "      <td>STON/O2. 3101282</td>\n",
       "      <td>7.9250</td>\n",
       "      <td>NaN</td>\n",
       "      <td>S</td>\n",
       "    </tr>\n",
       "    <tr>\n",
       "      <th>3</th>\n",
       "      <td>4</td>\n",
       "      <td>1</td>\n",
       "      <td>1</td>\n",
       "      <td>Futrelle, Mrs. Jacques Heath (Lily May Peel)</td>\n",
       "      <td>female</td>\n",
       "      <td>35.0</td>\n",
       "      <td>1</td>\n",
       "      <td>0</td>\n",
       "      <td>113803</td>\n",
       "      <td>53.1000</td>\n",
       "      <td>C123</td>\n",
       "      <td>S</td>\n",
       "    </tr>\n",
       "    <tr>\n",
       "      <th>4</th>\n",
       "      <td>5</td>\n",
       "      <td>0</td>\n",
       "      <td>3</td>\n",
       "      <td>Allen, Mr. William Henry</td>\n",
       "      <td>male</td>\n",
       "      <td>35.0</td>\n",
       "      <td>0</td>\n",
       "      <td>0</td>\n",
       "      <td>373450</td>\n",
       "      <td>8.0500</td>\n",
       "      <td>NaN</td>\n",
       "      <td>S</td>\n",
       "    </tr>\n",
       "  </tbody>\n",
       "</table>\n",
       "</div>"
      ],
      "text/plain": [
       "   PassengerId  Survived  Pclass  \\\n",
       "0            1         0       3   \n",
       "1            2         1       1   \n",
       "2            3         1       3   \n",
       "3            4         1       1   \n",
       "4            5         0       3   \n",
       "\n",
       "                                                Name     Sex   Age  SibSp  \\\n",
       "0                            Braund, Mr. Owen Harris    male  22.0      1   \n",
       "1  Cumings, Mrs. John Bradley (Florence Briggs Th...  female  38.0      1   \n",
       "2                             Heikkinen, Miss. Laina  female  26.0      0   \n",
       "3       Futrelle, Mrs. Jacques Heath (Lily May Peel)  female  35.0      1   \n",
       "4                           Allen, Mr. William Henry    male  35.0      0   \n",
       "\n",
       "   Parch            Ticket     Fare Cabin Embarked  \n",
       "0      0         A/5 21171   7.2500   NaN        S  \n",
       "1      0          PC 17599  71.2833   C85        C  \n",
       "2      0  STON/O2. 3101282   7.9250   NaN        S  \n",
       "3      0            113803  53.1000  C123        S  \n",
       "4      0            373450   8.0500   NaN        S  "
      ]
     },
     "execution_count": 5,
     "metadata": {},
     "output_type": "execute_result"
    }
   ],
   "source": [
    "train_data_cpu.head()"
   ]
  },
  {
   "cell_type": "code",
   "execution_count": 6,
   "id": "5dd5e539-e922-4af5-8ffc-3b45c565f51d",
   "metadata": {},
   "outputs": [
    {
     "data": {
      "text/html": [
       "<div>\n",
       "<style scoped>\n",
       "    .dataframe tbody tr th:only-of-type {\n",
       "        vertical-align: middle;\n",
       "    }\n",
       "\n",
       "    .dataframe tbody tr th {\n",
       "        vertical-align: top;\n",
       "    }\n",
       "\n",
       "    .dataframe thead th {\n",
       "        text-align: right;\n",
       "    }\n",
       "</style>\n",
       "<table border=\"1\" class=\"dataframe\">\n",
       "  <thead>\n",
       "    <tr style=\"text-align: right;\">\n",
       "      <th></th>\n",
       "      <th>PassengerId</th>\n",
       "      <th>Survived</th>\n",
       "      <th>Pclass</th>\n",
       "      <th>Name</th>\n",
       "      <th>Sex</th>\n",
       "      <th>Age</th>\n",
       "      <th>SibSp</th>\n",
       "      <th>Parch</th>\n",
       "      <th>Ticket</th>\n",
       "      <th>Fare</th>\n",
       "      <th>Cabin</th>\n",
       "      <th>Embarked</th>\n",
       "    </tr>\n",
       "  </thead>\n",
       "  <tbody>\n",
       "    <tr>\n",
       "      <th>0</th>\n",
       "      <td>1</td>\n",
       "      <td>0</td>\n",
       "      <td>3</td>\n",
       "      <td>Braund, Mr. Owen Harris</td>\n",
       "      <td>male</td>\n",
       "      <td>22.0</td>\n",
       "      <td>1</td>\n",
       "      <td>0</td>\n",
       "      <td>A/5 21171</td>\n",
       "      <td>7.2500</td>\n",
       "      <td>&lt;NA&gt;</td>\n",
       "      <td>S</td>\n",
       "    </tr>\n",
       "    <tr>\n",
       "      <th>1</th>\n",
       "      <td>2</td>\n",
       "      <td>1</td>\n",
       "      <td>1</td>\n",
       "      <td>Cumings, Mrs. John Bradley (Florence Briggs Th...</td>\n",
       "      <td>female</td>\n",
       "      <td>38.0</td>\n",
       "      <td>1</td>\n",
       "      <td>0</td>\n",
       "      <td>PC 17599</td>\n",
       "      <td>71.2833</td>\n",
       "      <td>C85</td>\n",
       "      <td>C</td>\n",
       "    </tr>\n",
       "    <tr>\n",
       "      <th>2</th>\n",
       "      <td>3</td>\n",
       "      <td>1</td>\n",
       "      <td>3</td>\n",
       "      <td>Heikkinen, Miss. Laina</td>\n",
       "      <td>female</td>\n",
       "      <td>26.0</td>\n",
       "      <td>0</td>\n",
       "      <td>0</td>\n",
       "      <td>STON/O2. 3101282</td>\n",
       "      <td>7.9250</td>\n",
       "      <td>&lt;NA&gt;</td>\n",
       "      <td>S</td>\n",
       "    </tr>\n",
       "    <tr>\n",
       "      <th>3</th>\n",
       "      <td>4</td>\n",
       "      <td>1</td>\n",
       "      <td>1</td>\n",
       "      <td>Futrelle, Mrs. Jacques Heath (Lily May Peel)</td>\n",
       "      <td>female</td>\n",
       "      <td>35.0</td>\n",
       "      <td>1</td>\n",
       "      <td>0</td>\n",
       "      <td>113803</td>\n",
       "      <td>53.1000</td>\n",
       "      <td>C123</td>\n",
       "      <td>S</td>\n",
       "    </tr>\n",
       "    <tr>\n",
       "      <th>4</th>\n",
       "      <td>5</td>\n",
       "      <td>0</td>\n",
       "      <td>3</td>\n",
       "      <td>Allen, Mr. William Henry</td>\n",
       "      <td>male</td>\n",
       "      <td>35.0</td>\n",
       "      <td>0</td>\n",
       "      <td>0</td>\n",
       "      <td>373450</td>\n",
       "      <td>8.0500</td>\n",
       "      <td>&lt;NA&gt;</td>\n",
       "      <td>S</td>\n",
       "    </tr>\n",
       "  </tbody>\n",
       "</table>\n",
       "</div>"
      ],
      "text/plain": [
       "   PassengerId  Survived  Pclass  \\\n",
       "0            1         0       3   \n",
       "1            2         1       1   \n",
       "2            3         1       3   \n",
       "3            4         1       1   \n",
       "4            5         0       3   \n",
       "\n",
       "                                                Name     Sex   Age  SibSp  \\\n",
       "0                            Braund, Mr. Owen Harris    male  22.0      1   \n",
       "1  Cumings, Mrs. John Bradley (Florence Briggs Th...  female  38.0      1   \n",
       "2                             Heikkinen, Miss. Laina  female  26.0      0   \n",
       "3       Futrelle, Mrs. Jacques Heath (Lily May Peel)  female  35.0      1   \n",
       "4                           Allen, Mr. William Henry    male  35.0      0   \n",
       "\n",
       "   Parch            Ticket     Fare Cabin Embarked  \n",
       "0      0         A/5 21171   7.2500  <NA>        S  \n",
       "1      0          PC 17599  71.2833   C85        C  \n",
       "2      0  STON/O2. 3101282   7.9250  <NA>        S  \n",
       "3      0            113803  53.1000  C123        S  \n",
       "4      0            373450   8.0500  <NA>        S  "
      ]
     },
     "execution_count": 6,
     "metadata": {},
     "output_type": "execute_result"
    }
   ],
   "source": [
    "train_data_gpu.head()"
   ]
  },
  {
   "cell_type": "code",
   "execution_count": 7,
   "id": "3b24a306-4e7a-4b71-83f4-f5f8294e4539",
   "metadata": {},
   "outputs": [
    {
     "name": "stdout",
     "output_type": "stream",
     "text": [
      "% of women who survived: 0.7420382165605095\n",
      "% of men who survived: 0.18890814558058924\n",
      "cpu execute time : 0.0013 seconds\n"
     ]
    }
   ],
   "source": [
    "with Timer(name=\"cpu\") as cpu_time:\n",
    "    women = train_data_cpu.loc[train_data_cpu.Sex == 'female'][\"Survived\"]\n",
    "    rate_women = sum(women)/len(women)    \n",
    "    print(f\"% of women who survived: {rate_women}\")\n",
    "    \n",
    "    men = train_data_cpu.loc[train_data_cpu.Sex == 'male'][\"Survived\"]\n",
    "    rate_men = sum(men)/len(men)    \n",
    "    print(f\"% of men who survived: {rate_men}\")"
   ]
  },
  {
   "cell_type": "code",
   "execution_count": 8,
   "id": "ccd75b41-4268-49de-b964-46dda5ecb390",
   "metadata": {},
   "outputs": [
    {
     "name": "stdout",
     "output_type": "stream",
     "text": [
      "% of women who survived: 0.7420382165605095\n",
      "% of men who survived: 0.18890814558058924\n",
      "gpu execute time : 0.0224 seconds\n"
     ]
    }
   ],
   "source": [
    "with Timer(name=\"gpu\") as gpu_time:\n",
    "    women = train_data_gpu.loc[train_data_gpu.Sex == 'female'][\"Survived\"]\n",
    "    rate_women = women.sum()/len(women)    \n",
    "    print(f\"% of women who survived: {rate_women}\")\n",
    "    \n",
    "    men = train_data_gpu.loc[train_data_gpu.Sex == 'male'][\"Survived\"]\n",
    "    rate_men = men.sum()/len(men)    \n",
    "    print(f\"% of men who survived: {rate_men}\")"
   ]
  },
  {
   "cell_type": "code",
   "execution_count": 9,
   "id": "3595b7d2-8afd-4b1b-8418-b8c18775c991",
   "metadata": {},
   "outputs": [
    {
     "name": "stdout",
     "output_type": "stream",
     "text": [
      "cpu run execute time : 0.0905 seconds\n",
      "Your submission was successfully saved!\n",
      "cpu save execute time : 0.0014 seconds\n"
     ]
    }
   ],
   "source": [
    "with Timer(name=\"cpu run\") as cpu_time:\n",
    "    y = train_data_cpu[\"Survived\"]\n",
    "    \n",
    "    features = [\"Pclass\", \"Sex\", \"SibSp\", \"Parch\"]\n",
    "    X = pd.get_dummies(train_data_cpu[features]).astype(np.float32)\n",
    "    X_test = pd.get_dummies(test_data_cpu[features]).astype(np.float32)\n",
    "    \n",
    "    model = RF_cpu(n_estimators=100, max_depth=5, random_state=1)\n",
    "    model.fit(X, y)\n",
    "    predictions = model.predict(X_test)\n",
    "    \n",
    "    output = pd.DataFrame({'PassengerId': test_data_cpu.PassengerId, 'Survived': predictions})\n",
    "    \n",
    "with Timer(name=\"cpu save\") as cpu_time:\n",
    "    output.to_csv('submission_RF_cpu.csv', index=False)\n",
    "    print(\"Your submission was successfully saved!\")"
   ]
  },
  {
   "cell_type": "code",
   "execution_count": 10,
   "id": "a9c79bdf-d5bf-4714-aaba-2122886f4361",
   "metadata": {},
   "outputs": [
    {
     "name": "stderr",
     "output_type": "stream",
     "text": [
      "/home/cvmi_jeyoung/anaconda3/envs/rapids/lib/python3.9/site-packages/cudf/core/reshape.py:708: FutureWarning: Default `dtype` value will be changed to 'bool' in a future release, please update `dtype='bool'` to adapt for future behavior.\n",
      "  warnings.warn(\n",
      "/home/cvmi_jeyoung/anaconda3/envs/rapids/lib/python3.9/site-packages/cudf/core/reshape.py:708: FutureWarning: Default `dtype` value will be changed to 'bool' in a future release, please update `dtype='bool'` to adapt for future behavior.\n",
      "  warnings.warn(\n"
     ]
    },
    {
     "name": "stdout",
     "output_type": "stream",
     "text": [
      "gpu run execute time : 0.3367 seconds\n",
      "Your submission was successfully saved!\n",
      "gpu save execute time : 0.0029 seconds\n"
     ]
    }
   ],
   "source": [
    "with Timer(name=\"gpu run\") as gpu_time:\n",
    "    y = train_data_gpu[\"Survived\"]\n",
    "    \n",
    "    features = [\"Pclass\", \"Sex\", \"SibSp\", \"Parch\"]\n",
    "    X = cudf.get_dummies(train_data_gpu[features]).astype(cp.float32)\n",
    "    X_test = cudf.get_dummies(test_data_gpu[features]).astype(cp.float32)\n",
    "    \n",
    "    model = RF_gpu(n_estimators=100, max_depth=5, random_state=1, n_streams=1)\n",
    "    model.fit(X, y)\n",
    "    predictions = model.predict(X_test)\n",
    "    \n",
    "    output = cudf.DataFrame({'PassengerId': test_data_gpu.PassengerId, 'Survived': predictions})\n",
    "    \n",
    "with Timer(name=\"gpu save\") as gpu_time:    \n",
    "    output.to_csv('submission_RF_gpu.csv', index=False)\n",
    "    print(\"Your submission was successfully saved!\")"
   ]
  },
  {
   "cell_type": "markdown",
   "id": "e8a8b3ab-6bf7-4017-a092-659e8fb7c5fc",
   "metadata": {},
   "source": [
    "# More complicate and iterate samples"
   ]
  },
  {
   "cell_type": "code",
   "execution_count": 11,
   "id": "6da76b81-3e82-44c1-9889-0f3e6f0c24ba",
   "metadata": {},
   "outputs": [
    {
     "name": "stdout",
     "output_type": "stream",
     "text": [
      "cpu run execute time : 8.5194 seconds\n",
      "Your submission was successfully saved!\n",
      "cpu save execute time : 0.0010 seconds\n"
     ]
    }
   ],
   "source": [
    "with Timer(name=\"cpu run\") as cpu_time:\n",
    "    y = train_data_cpu[\"Survived\"]\n",
    "    \n",
    "    features = [\"Pclass\", \"Sex\", \"SibSp\", \"Parch\"]\n",
    "    X = pd.get_dummies(train_data_cpu[features]).astype(np.float32)\n",
    "    X_test = pd.get_dummies(test_data_cpu[features]).astype(np.float32)\n",
    "    \n",
    "    model = RF_cpu(n_estimators=10000, max_depth=100, random_state=1)\n",
    "    model.fit(X, y)\n",
    "    predictions = model.predict(X_test)\n",
    "    \n",
    "    output = pd.DataFrame({'PassengerId': test_data_cpu.PassengerId, 'Survived': predictions})\n",
    "\n",
    "with Timer(name=\"cpu save\") as cpu_time:\n",
    "    output.to_csv('submission_RF_cpu.csv', index=False)\n",
    "    print(\"Your submission was successfully saved!\")"
   ]
  },
  {
   "cell_type": "code",
   "execution_count": 12,
   "id": "b3d77753-5f3b-4bc3-85ea-d493dec45478",
   "metadata": {},
   "outputs": [
    {
     "name": "stderr",
     "output_type": "stream",
     "text": [
      "/home/cvmi_jeyoung/anaconda3/envs/rapids/lib/python3.9/site-packages/cudf/core/reshape.py:708: FutureWarning: Default `dtype` value will be changed to 'bool' in a future release, please update `dtype='bool'` to adapt for future behavior.\n",
      "  warnings.warn(\n",
      "/home/cvmi_jeyoung/anaconda3/envs/rapids/lib/python3.9/site-packages/cudf/core/reshape.py:708: FutureWarning: Default `dtype` value will be changed to 'bool' in a future release, please update `dtype='bool'` to adapt for future behavior.\n",
      "  warnings.warn(\n"
     ]
    },
    {
     "name": "stdout",
     "output_type": "stream",
     "text": [
      "gpu run execute time : 32.7713 seconds\n",
      "Your submission was successfully saved!\n",
      "gpu save execute time : 0.0009 seconds\n"
     ]
    }
   ],
   "source": [
    "with Timer(name=\"gpu run\") as cpu_time:\n",
    "    y = train_data_gpu[\"Survived\"]\n",
    "    \n",
    "    features = [\"Pclass\", \"Sex\", \"SibSp\", \"Parch\"]\n",
    "    X = cudf.get_dummies(train_data_gpu[features]).astype(cp.float32)\n",
    "    X_test = cudf.get_dummies(test_data_gpu[features]).astype(cp.float32)\n",
    "    \n",
    "    model = RF_gpu(n_estimators=10000, max_depth=100, random_state=1, n_streams=1)\n",
    "    model.fit(X, y)\n",
    "    predictions = model.predict(X_test)\n",
    "    \n",
    "    output = cudf.DataFrame({'PassengerId': test_data_gpu.PassengerId, 'Survived': predictions})\n",
    "\n",
    "with Timer(name=\"gpu save\") as cpu_time:\n",
    "    output.to_csv('submission_RF_gpu.csv', index=False)\n",
    "    print(\"Your submission was successfully saved!\")"
   ]
  }
 ],
 "metadata": {
  "kernelspec": {
   "display_name": "Python 3 (ipykernel)",
   "language": "python",
   "name": "python3"
  },
  "language_info": {
   "codemirror_mode": {
    "name": "ipython",
    "version": 3
   },
   "file_extension": ".py",
   "mimetype": "text/x-python",
   "name": "python",
   "nbconvert_exporter": "python",
   "pygments_lexer": "ipython3",
   "version": "3.9.18"
  }
 },
 "nbformat": 4,
 "nbformat_minor": 5
}
