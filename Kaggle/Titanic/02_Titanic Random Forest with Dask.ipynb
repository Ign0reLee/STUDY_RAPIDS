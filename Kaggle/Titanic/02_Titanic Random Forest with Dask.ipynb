{
 "cells": [
  {
   "cell_type": "markdown",
   "id": "85c98cf3-d5cb-4ae0-b13d-252ef4a30029",
   "metadata": {},
   "source": [
    "# Import Moudles\n",
    "---\n",
    "\n",
    "Import CPU vs GPU all code\n",
    "\n",
    "If you want to see how many utilize your gpu, run below on terminal\n",
    "\n",
    "```cmd\n",
    "watch -n 0.1 nvidia-smi\n",
    "```\n",
    "\n",
    "Dask Visualizer need to install graphvis jupyter-cytoscape\n",
    "\n",
    "```cmd\n",
    "conda install graphvis ipycytoscape -y\n",
    "```"
   ]
  },
  {
   "cell_type": "code",
   "execution_count": 1,
   "id": "50e72340-7690-4c07-b16c-2eaea90a5c1b",
   "metadata": {},
   "outputs": [],
   "source": [
    "import time\n",
    "\n",
    "import cupy as cp\n",
    "\n",
    "import cudf\n",
    "import dask\n",
    "import dask_cudf\n",
    "import dask.dataframe as dd\n",
    "dask.config.set({\"dataframe.backend\": \"cudf\"})\n",
    "\n",
    "from cuml.ensemble    import RandomForestClassifier as RF"
   ]
  },
  {
   "cell_type": "code",
   "execution_count": 2,
   "id": "089e314d-d730-4a78-8c3c-266d320ac69c",
   "metadata": {},
   "outputs": [],
   "source": [
    "class Timer:\n",
    "    def __init__(self, name=\"cpu\"):\n",
    "        self.name = name\n",
    "        \n",
    "    def __enter__(self):\n",
    "        self.start = time.perf_counter()\n",
    "        \n",
    "    def __exit__(self, type, value, trackback):\n",
    "        self.end = time.perf_counter()\n",
    "        self.execute_time = self.end - self.start\n",
    "        print(f\"{self.name} execute time : {self.execute_time:.4f} seconds\")"
   ]
  },
  {
   "cell_type": "code",
   "execution_count": 3,
   "id": "a3b859a0-a147-404c-a210-8ecc4e368bbf",
   "metadata": {},
   "outputs": [
    {
     "name": "stdout",
     "output_type": "stream",
     "text": [
      "['data/gender_submission.csv', 'data/train.csv', 'data/train.parquet', 'data/test.csv', 'data/test.parquet']\n"
     ]
    }
   ],
   "source": [
    "import os\n",
    "import glob\n",
    "\n",
    "path = glob.glob(os.path.join(\"data\", \"*\"))\n",
    "print(path)"
   ]
  },
  {
   "cell_type": "code",
   "execution_count": 4,
   "id": "8328ce12-d0ee-49d3-a7af-1558ffb1152f",
   "metadata": {},
   "outputs": [
    {
     "name": "stdout",
     "output_type": "stream",
     "text": [
      "gpu read csv execute time : 0.3269 seconds\n",
      "gpu to parquet execute time : 0.0179 seconds\n"
     ]
    }
   ],
   "source": [
    "with Timer(name=\"gpu read csv\") as gpu_time:\n",
    "    train_data_gpu = cudf.read_csv(\"./data/train.csv\")\n",
    "    test_data_gpu  = cudf.read_csv(\"./data/test.csv\")\n",
    "\n",
    "with Timer(name=\"gpu to parquet\") as gpu_time:\n",
    "    train_data_gpu.to_parquet(\"./data/train.parquet\")\n",
    "    test_data_gpu.to_parquet(\"./data/test.parquet\")\n",
    "\n"
   ]
  },
  {
   "cell_type": "code",
   "execution_count": 5,
   "id": "970a50ad-c4c0-4435-ae53-046af8a67a5a",
   "metadata": {},
   "outputs": [
    {
     "name": "stdout",
     "output_type": "stream",
     "text": [
      "dask read parquet execute time : 0.0228 seconds\n"
     ]
    }
   ],
   "source": [
    "with Timer(name=\"dask read parquet\") as dask_time:\n",
    "    train_dask = dd.read_parquet(\"./data/train.parquet\")\n",
    "    test_dask  = dd.read_parquet(\"./data/test.parquet\")"
   ]
  },
  {
   "cell_type": "code",
   "execution_count": 6,
   "id": "2ba9f281-92cb-4d59-b2b2-736f672ad0f6",
   "metadata": {
    "scrolled": true
   },
   "outputs": [
    {
     "data": {
      "application/vnd.jupyter.widget-view+json": {
       "model_id": "24f0785b8d814c6f8f5ceca699dd0070",
       "version_major": 2,
       "version_minor": 0
      },
      "text/plain": [
       "CytoscapeWidget(cytoscape_layout={'name': 'dagre', 'rankDir': 'BT', 'nodeSep': 10, 'edgeSep': 10, 'spacingFact…"
      ]
     },
     "execution_count": 6,
     "metadata": {},
     "output_type": "execute_result"
    }
   ],
   "source": [
    "train_dask.visualize()"
   ]
  },
  {
   "cell_type": "code",
   "execution_count": 7,
   "id": "24102e76-6578-4ccb-946e-b5e6be654a95",
   "metadata": {},
   "outputs": [
    {
     "data": {
      "application/vnd.jupyter.widget-view+json": {
       "model_id": "62c09198d49d43d4a69b881de8c5c782",
       "version_major": 2,
       "version_minor": 0
      },
      "text/plain": [
       "CytoscapeWidget(cytoscape_layout={'name': 'dagre', 'rankDir': 'BT', 'nodeSep': 10, 'edgeSep': 10, 'spacingFact…"
      ]
     },
     "execution_count": 7,
     "metadata": {},
     "output_type": "execute_result"
    }
   ],
   "source": [
    "test_dask.visualize()"
   ]
  },
  {
   "cell_type": "markdown",
   "id": "bc443ed3-0422-4af5-b99a-17e64cfad577",
   "metadata": {},
   "source": [
    "# Compute vs Persist"
   ]
  },
  {
   "cell_type": "code",
   "execution_count": 8,
   "id": "d5f1fac9-c67c-423b-ab59-f9ff06a952de",
   "metadata": {},
   "outputs": [
    {
     "name": "stdout",
     "output_type": "stream",
     "text": [
      "% of women who survived: 0.7420382165605095\n",
      "% of men who survived: 0.18890814558058924\n",
      "gpu execute time : 0.2799 seconds\n"
     ]
    }
   ],
   "source": [
    "with Timer(name=\"gpu\") as gpu_time:\n",
    "    women = train_dask.loc[train_dask['Sex'] == 'female'][\"Survived\"]\n",
    "    rate_women = women.sum()/len(women)    \n",
    "    print(f\"% of women who survived: {rate_women.compute()}\")\n",
    "    \n",
    "    men = train_dask.loc[train_dask['Sex'] == 'male'][\"Survived\"]\n",
    "    rate_men = men.sum()/len(men)    \n",
    "    print(f\"% of men who survived: {rate_men.compute()}\")"
   ]
  },
  {
   "cell_type": "code",
   "execution_count": 9,
   "id": "928e5ecb-2a24-4b76-9d4a-2780f9ccb96b",
   "metadata": {},
   "outputs": [
    {
     "data": {
      "application/vnd.jupyter.widget-view+json": {
       "model_id": "c40f1648edc64d2f9a0f4aec3d3ebaa3",
       "version_major": 2,
       "version_minor": 0
      },
      "text/plain": [
       "CytoscapeWidget(cytoscape_layout={'name': 'dagre', 'rankDir': 'BT', 'nodeSep': 10, 'edgeSep': 10, 'spacingFact…"
      ]
     },
     "execution_count": 9,
     "metadata": {},
     "output_type": "execute_result"
    }
   ],
   "source": [
    "rate_men.visualize()"
   ]
  },
  {
   "cell_type": "code",
   "execution_count": 10,
   "id": "cacc9686-7955-4188-9da7-1e810421ac3c",
   "metadata": {},
   "outputs": [],
   "source": [
    "train_dask = train_dask.persist()\n",
    "test_dask  = test_dask.persist()"
   ]
  },
  {
   "cell_type": "code",
   "execution_count": 11,
   "id": "2dd2b147-3ef3-46f5-a2ee-5c265e2d151e",
   "metadata": {},
   "outputs": [
    {
     "name": "stdout",
     "output_type": "stream",
     "text": [
      "% of women who survived: 0.7420382165605095\n",
      "% of men who survived: 0.18890814558058924\n",
      "gpu execute time : 0.0314 seconds\n"
     ]
    }
   ],
   "source": [
    "with Timer(name=\"gpu\") as gpu_time:\n",
    "    women = train_dask.loc[train_dask['Sex'] == 'female'][\"Survived\"]\n",
    "    rate_women = women.sum()/len(women)    \n",
    "    print(f\"% of women who survived: {rate_women.compute()}\")\n",
    "    \n",
    "    men = train_dask.loc[train_dask['Sex'] == 'male'][\"Survived\"]\n",
    "    rate_men = men.sum()/len(men)    \n",
    "    print(f\"% of men who survived: {rate_men.compute()}\")"
   ]
  },
  {
   "cell_type": "code",
   "execution_count": 12,
   "id": "28617dd8-88a9-44fd-982d-6995c2ecf06e",
   "metadata": {},
   "outputs": [
    {
     "data": {
      "application/vnd.jupyter.widget-view+json": {
       "model_id": "39788cea9cd043d49179ec541aa47f60",
       "version_major": 2,
       "version_minor": 0
      },
      "text/plain": [
       "CytoscapeWidget(cytoscape_layout={'name': 'dagre', 'rankDir': 'BT', 'nodeSep': 10, 'edgeSep': 10, 'spacingFact…"
      ]
     },
     "execution_count": 12,
     "metadata": {},
     "output_type": "execute_result"
    }
   ],
   "source": [
    "rate_men.visualize()"
   ]
  },
  {
   "cell_type": "code",
   "execution_count": 13,
   "id": "a5917dfb-69cb-4854-b83b-e10df756b794",
   "metadata": {},
   "outputs": [
    {
     "name": "stdout",
     "output_type": "stream",
     "text": [
      "gpu run execute time : 0.3584 seconds\n",
      "Your submission was successfully saved!\n",
      "gpu save execute time : 0.0031 seconds\n"
     ]
    }
   ],
   "source": [
    "with Timer(name=\"gpu run\") as gpu_time:\n",
    "    y = train_dask[\"Survived\"].persist()\n",
    "    \n",
    "    features = [\"Pclass\", \"Sex\", \"SibSp\", \"Parch\"]\n",
    "    X = dd.reshape.get_dummies(train_dask[features].categorize()).astype(cp.float32)\n",
    "    X_test = dd.reshape.get_dummies(test_dask[features].categorize()).astype(cp.float32)\n",
    "    \n",
    "    model = RF(n_estimators=100, max_depth=5, random_state=1, n_streams=1)\n",
    "    model.fit(X, y)\n",
    "    predictions = model.predict(X_test.compute())\n",
    "    \n",
    "    output = cudf.DataFrame({'PassengerId': test_data_gpu.PassengerId, 'Survived': predictions})\n",
    "    \n",
    "with Timer(name=\"gpu save\") as gpu_time:    \n",
    "    output.to_csv('submission_RF_dask.csv', index=False)\n",
    "    print(\"Your submission was successfully saved!\")"
   ]
  },
  {
   "cell_type": "code",
   "execution_count": 14,
   "id": "2f062784-1e12-4801-bfa1-368208f5d995",
   "metadata": {},
   "outputs": [
    {
     "name": "stdout",
     "output_type": "stream",
     "text": [
      "gpu run execute time : 14.6617 seconds\n",
      "Your submission was successfully saved!\n",
      "gpu save execute time : 0.0013 seconds\n"
     ]
    }
   ],
   "source": [
    "with Timer(name=\"gpu run\") as gpu_time:\n",
    "    y = train_dask[\"Survived\"].persist()\n",
    "    \n",
    "    features = [\"Pclass\", \"Sex\", \"SibSp\", \"Parch\"]\n",
    "    X = dd.reshape.get_dummies(train_dask[features].categorize()).astype(cp.float32)\n",
    "    X_test = dd.reshape.get_dummies(test_dask[features].categorize()).astype(cp.float32)\n",
    "    \n",
    "    model = RF(n_estimators=10000, max_depth=100, random_state=1, n_streams=1)\n",
    "    model.fit(X, y)\n",
    "    predictions = model.predict(X_test.compute())\n",
    "    \n",
    "    output = cudf.DataFrame({'PassengerId': test_data_gpu.PassengerId, 'Survived': predictions})\n",
    "    \n",
    "with Timer(name=\"gpu save\") as gpu_time:    \n",
    "    output.to_csv('submission_RF_dask.csv', index=False)\n",
    "    print(\"Your submission was successfully saved!\")"
   ]
  }
 ],
 "metadata": {
  "kernelspec": {
   "display_name": "Python 3 (ipykernel)",
   "language": "python",
   "name": "python3"
  },
  "language_info": {
   "codemirror_mode": {
    "name": "ipython",
    "version": 3
   },
   "file_extension": ".py",
   "mimetype": "text/x-python",
   "name": "python",
   "nbconvert_exporter": "python",
   "pygments_lexer": "ipython3",
   "version": "3.9.18"
  }
 },
 "nbformat": 4,
 "nbformat_minor": 5
}
