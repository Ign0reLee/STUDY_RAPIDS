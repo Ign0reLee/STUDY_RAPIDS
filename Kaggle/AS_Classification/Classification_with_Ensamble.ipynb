{
 "cells": [
  {
   "cell_type": "code",
   "execution_count": 1,
   "id": "2e774a28-b896-4373-b415-4d78b523f086",
   "metadata": {},
   "outputs": [],
   "source": [
    "# This Python 3 environment comes with many helpful analytics libraries installed\n",
    "# It is defined by the kaggle/python Docker image: https://github.com/kaggle/docker-python\n",
    "# For example, here's several helpful packages to load\n",
    "\n",
    "import time\n",
    "import logging\n",
    "import subprocess\n",
    "import numpy as np\n",
    "import warnings\n",
    "warnings.filterwarnings(action='ignore')\n",
    "import numpy as np # linear algebra\n",
    "import pandas as pd # data processing, CSV file I/O (e.g. pd.read_csv)\n",
    "\n",
    "from collections.abc import Iterator\n",
    "\n",
    "# Input data files are available in the read-only \"../input/\" directory\n",
    "# For example, running this (by clicking run or pressing Shift+Enter) will list all files under the input directory\n",
    "\n",
    "# You can write up to 20GB to the current directory (/kaggle/working/) that gets preserved as output when you create a version using \"Save & Run All\" \n",
    "# You can also write temporary files to /kaggle/temp/, but they won't be saved outside of the current session\n",
    "\n",
    "# For GPU array computation\n",
    "import cupy as cp\n",
    "\n",
    "# For GPU dataframe operation\n",
    "import cudf\n",
    "\n",
    "# For GPU Model\n",
    "from cuml.ensemble    import RandomForestClassifier as RF\n",
    "\n",
    "# Default DASK Libraries and set use GPU's\n",
    "import dask\n",
    "import dask_cudf\n",
    "import dask.array as da\n",
    "import dask.dataframe as dd\n",
    "dask.config.set({\"dataframe.backend\": \"cudf\"})\n",
    "\n",
    "# Set for Multi GPU use\n",
    "from dask_cuda        import LocalCUDACluster\n",
    "from dask.distributed import Client, wait, progress\n",
    "\n",
    "# Dask Machine Learning Libraries\n",
    "import dask_ml\n",
    "from dask_ml.preprocessing   import StandardScaler\n",
    "from dask_ml.metrics         import mean_squared_error \n",
    "from dask_ml.model_selection import train_test_split\n",
    "from dask_ml.model_selection import GridSearchCV as GSCV\n",
    "\n",
    "# Dask Model\n",
    "from dask_ml.linear_model import LogisticRegression\n",
    "\n",
    "# For Train XGBoost\n",
    "import xgboost as xgb\n",
    "\n",
    "# For Visualization\n",
    "%matplotlib inline\n",
    "import matplotlib\n",
    "import matplotlib.pyplot as plt\n",
    "import graphviz\n"
   ]
  },
  {
   "cell_type": "code",
   "execution_count": 2,
   "id": "f8e2c954-1e14-4081-8c72-04e52e695ecf",
   "metadata": {},
   "outputs": [],
   "source": [
    "cmd = \"hostname --all-ip-addresses\"\n",
    "process = subprocess.Popen(cmd.split(), stdout=subprocess.PIPE)\n",
    "output, error = process.communicate()\n",
    "IPADDR = str(output.decode()).split()[0]\n",
    "\n",
    "cluster = LocalCUDACluster(ip=IPADDR, silence_logs=logging.ERROR, n_workers=1)\n",
    "client = Client(cluster)"
   ]
  },
  {
   "cell_type": "code",
   "execution_count": 3,
   "id": "d413b282-2153-4d98-bd90-a2511320c1be",
   "metadata": {},
   "outputs": [],
   "source": [
    "class Timer:\n",
    "    def __init__(self, name=\"cpu\"):\n",
    "        self.name = name\n",
    "        \n",
    "    def __enter__(self):\n",
    "        self.start = time.perf_counter()\n",
    "        \n",
    "    def __exit__(self, type, value, trackback):\n",
    "        self.end = time.perf_counter()\n",
    "        self.execute_time = self.end - self.start\n",
    "        print(f\"{self.name} execute time : {self.execute_time:.4f} seconds\")"
   ]
  },
  {
   "cell_type": "code",
   "execution_count": 4,
   "id": "3fe81526-f8c8-436a-9cfb-54110dfe2634",
   "metadata": {},
   "outputs": [],
   "source": [
    "train_path = \"/media/HDD2/Data/AS_Dataset/train.csv\"\n",
    "test_path  = \"/media/HDD2/Data/AS_Dataset/test.csv\""
   ]
  },
  {
   "cell_type": "code",
   "execution_count": 5,
   "id": "16ab5361-8107-4371-b88e-6896bb426af7",
   "metadata": {},
   "outputs": [
    {
     "name": "stdout",
     "output_type": "stream",
     "text": [
      "DASK execute time : 0.0519 seconds\n"
     ]
    }
   ],
   "source": [
    "with Timer(\"DASK\"):\n",
    "    train_df = dd.read_csv(train_path)\n",
    "    test_df  = dd.read_csv(test_path)"
   ]
  },
  {
   "cell_type": "code",
   "execution_count": 6,
   "id": "cad7ddec-d986-44c9-9efa-e30b3f424e27",
   "metadata": {},
   "outputs": [
    {
     "data": {
      "image/png": "[encoded data removed]",
      "text/plain": [
       "<IPython.core.display.Image object>"
      ]
     },
     "execution_count": 6,
     "metadata": {},
     "output_type": "execute_result"
    }
   ],
   "source": [
    "train_df.visualize()"
   ]
  },
  {
   "cell_type": "code",
   "execution_count": 7,
   "id": "925a22d0-f993-4222-ae20-58809069fc36",
   "metadata": {},
   "outputs": [
    {
     "name": "stdout",
     "output_type": "stream",
     "text": [
      "DASK execute time : 0.0294 seconds\n"
     ]
    }
   ],
   "source": [
    "with Timer(\"DASK\"):\n",
    "    train_df = dd.read_csv(train_path)\n",
    "    test_df  = dd.read_csv(test_path)"
   ]
  },
  {
   "cell_type": "code",
   "execution_count": 8,
   "id": "e4c82818-26b3-4ffb-bce5-e9b459a8059b",
   "metadata": {},
   "outputs": [
    {
     "data": {
      "image/png": "[encoded data removed]",
      "text/plain": [
       "<IPython.core.display.Image object>"
      ]
     },
     "execution_count": 8,
     "metadata": {},
     "output_type": "execute_result"
    }
   ],
   "source": [
    "train_df.visualize()"
   ]
  },
  {
   "cell_type": "code",
   "execution_count": 9,
   "id": "82ac2bc5-110d-459b-9067-7d5c41795911",
   "metadata": {},
   "outputs": [],
   "source": [
    "def LabelEncoder(ddf:dd.DataFrame)->dd.DataFrame:\n",
    "    columns = ddf.columns\n",
    "    for c in columns:\n",
    "        categories = ddf[c].compute().unique()\n",
    "        cat2i   = {c : i for i, c in enumerate(categories.values_host)}\n",
    "        i2cat   = {i : c for c, i in cat2i.items()}\n",
    "        ddf[c] = ddf[c].map(cat2i)\n",
    "    return ddf, i2cat\n",
    "\n",
    "def LabelDecoder(ddf:dd.DataFrame, i2cat:dict) -> dd.DataFrame:\n",
    "    ddf[\"Target\"] = ddf[\"Target\"].map(i2cat)\n",
    "    return ddf\n",
    "\n",
    "def StandardScaler(ddf:dd.DataFrame) -> dd.DataFrame:\n",
    "    columns = ddf.columns\n",
    "    for c in columns:\n",
    "        mean = ddf[c].mean()\n",
    "        std  = ddf[c].std()\n",
    "        ddf[c]   = (ddf[c] - mean) / std\n",
    "    return ddf"
   ]
  },
  {
   "cell_type": "code",
   "execution_count": 10,
   "id": "cce0c9a0-f1e0-4a89-ae72-ba749efa72ca",
   "metadata": {},
   "outputs": [
    {
     "name": "stdout",
     "output_type": "stream",
     "text": [
      "DASK execute time : 1.5754 seconds\n"
     ]
    }
   ],
   "source": [
    "with Timer(\"DASK\"):\n",
    "    train_df.dropna()\n",
    "    y_train, i2cat = LabelEncoder(train_df[[\"Target\"]])\n",
    "    X_train        = train_df.drop(columns=[\"Target\", \"id\"])\n",
    "    X_train        = StandardScaler(X_train)\n",
    "    X_test         = test_df.drop(columns=[\"id\"])\n",
    "    \n",
    "X_train = X_train.persist()\n",
    "X_test  = X_test.persist()\n",
    "y_train = y_train[\"Target\"].persist()\n"
   ]
  },
  {
   "cell_type": "code",
   "execution_count": 11,
   "id": "c074d3a9-7f24-46e0-8a5c-72d6facb04e6",
   "metadata": {},
   "outputs": [],
   "source": [
    "X_train = X_train.persist()\n",
    "y_train = y_train.persist()\n",
    "X_test  = X_test.persist()"
   ]
  },
  {
   "cell_type": "code",
   "execution_count": 12,
   "id": "53d5fc1b-d9ce-4076-a86e-3d24cdab8f40",
   "metadata": {},
   "outputs": [
    {
     "name": "stderr",
     "output_type": "stream",
     "text": [
      "[15:26:58] task [xgboost.dask-0]:tcp://192.168.0.69:37403 got new rank 0\n",
      "[15:26:58] WARNING: /home/conda/feedstock_root/build_artifacts/xgboost-split_1701495763888/work/src/learner.cc:767: \n",
      "Parameters: { \"n_estimator\" } are not used.\n",
      "\n"
     ]
    },
    {
     "data": {
      "text/html": [
       "<style>#sk-container-id-1 {color: black;}#sk-container-id-1 pre{padding: 0;}#sk-container-id-1 div.sk-toggleable {background-color: white;}#sk-container-id-1 label.sk-toggleable__label {cursor: pointer;display: block;width: 100%;margin-bottom: 0;padding: 0.3em;box-sizing: border-box;text-align: center;}#sk-container-id-1 label.sk-toggleable__label-arrow:before {content: \"▸\";float: left;margin-right: 0.25em;color: #696969;}#sk-container-id-1 label.sk-toggleable__label-arrow:hover:before {color: black;}#sk-container-id-1 div.sk-estimator:hover label.sk-toggleable__label-arrow:before {color: black;}#sk-container-id-1 div.sk-toggleable__content {max-height: 0;max-width: 0;overflow: hidden;text-align: left;background-color: #f0f8ff;}#sk-container-id-1 div.sk-toggleable__content pre {margin: 0.2em;color: black;border-radius: 0.25em;background-color: #f0f8ff;}#sk-container-id-1 input.sk-toggleable__control:checked~div.sk-toggleable__content {max-height: 200px;max-width: 100%;overflow: auto;}#sk-container-id-1 input.sk-toggleable__control:checked~label.sk-toggleable__label-arrow:before {content: \"▾\";}#sk-container-id-1 div.sk-estimator input.sk-toggleable__control:checked~label.sk-toggleable__label {background-color: #d4ebff;}#sk-container-id-1 div.sk-label input.sk-toggleable__control:checked~label.sk-toggleable__label {background-color: #d4ebff;}#sk-container-id-1 input.sk-hidden--visually {border: 0;clip: rect(1px 1px 1px 1px);clip: rect(1px, 1px, 1px, 1px);height: 1px;margin: -1px;overflow: hidden;padding: 0;position: absolute;width: 1px;}#sk-container-id-1 div.sk-estimator {font-family: monospace;background-color: #f0f8ff;border: 1px dotted black;border-radius: 0.25em;box-sizing: border-box;margin-bottom: 0.5em;}#sk-container-id-1 div.sk-estimator:hover {background-color: #d4ebff;}#sk-container-id-1 div.sk-parallel-item::after {content: \"\";width: 100%;border-bottom: 1px solid gray;flex-grow: 1;}#sk-container-id-1 div.sk-label:hover label.sk-toggleable__label {background-color: #d4ebff;}#sk-container-id-1 div.sk-serial::before {content: \"\";position: absolute;border-left: 1px solid gray;box-sizing: border-box;top: 0;bottom: 0;left: 50%;z-index: 0;}#sk-container-id-1 div.sk-serial {display: flex;flex-direction: column;align-items: center;background-color: white;padding-right: 0.2em;padding-left: 0.2em;position: relative;}#sk-container-id-1 div.sk-item {position: relative;z-index: 1;}#sk-container-id-1 div.sk-parallel {display: flex;align-items: stretch;justify-content: center;background-color: white;position: relative;}#sk-container-id-1 div.sk-item::before, #sk-container-id-1 div.sk-parallel-item::before {content: \"\";position: absolute;border-left: 1px solid gray;box-sizing: border-box;top: 0;bottom: 0;left: 50%;z-index: -1;}#sk-container-id-1 div.sk-parallel-item {display: flex;flex-direction: column;z-index: 1;position: relative;background-color: white;}#sk-container-id-1 div.sk-parallel-item:first-child::after {align-self: flex-end;width: 50%;}#sk-container-id-1 div.sk-parallel-item:last-child::after {align-self: flex-start;width: 50%;}#sk-container-id-1 div.sk-parallel-item:only-child::after {width: 0;}#sk-container-id-1 div.sk-dashed-wrapped {border: 1px dashed gray;margin: 0 0.4em 0.5em 0.4em;box-sizing: border-box;padding-bottom: 0.4em;background-color: white;}#sk-container-id-1 div.sk-label label {font-family: monospace;font-weight: bold;display: inline-block;line-height: 1.2em;}#sk-container-id-1 div.sk-label-container {text-align: center;}#sk-container-id-1 div.sk-container {/* jupyter's `normalize.less` sets `[hidden] { display: none; }` but bootstrap.min.css set `[hidden] { display: none !important; }` so we also need the `!important` here to be able to override the default hidden behavior on the sphinx rendered scikit-learn.org. See: https://github.com/scikit-learn/scikit-learn/issues/21755 */display: inline-block !important;position: relative;}#sk-container-id-1 div.sk-text-repr-fallback {display: none;}</style><div id=\"sk-container-id-1\" class=\"sk-top-container\"><div class=\"sk-text-repr-fallback\"><pre>DaskXGBClassifier(colsample_bytree=0.5, eval_metric=&#x27;auc&#x27;,\n",
       "                  grow_policy=&#x27;lossguide&#x27;, learning_rate=0.001, max_depth=6,\n",
       "                  max_leaves=64, min_child_weight=7, n_estimator=200,\n",
       "                  num_class=3, objective=&#x27;multi:softprob&#x27;, reg_alpha=1,\n",
       "                  reg_lambda=0.5, tree_method=&#x27;gpu_hist&#x27;)</pre><b>In a Jupyter environment, please rerun this cell to show the HTML representation or trust the notebook. <br />On GitHub, the HTML representation is unable to render, please try loading this page with nbviewer.org.</b></div><div class=\"sk-container\" hidden><div class=\"sk-item\"><div class=\"sk-estimator sk-toggleable\"><input class=\"sk-toggleable__control sk-hidden--visually\" id=\"sk-estimator-id-1\" type=\"checkbox\" checked><label for=\"sk-estimator-id-1\" class=\"sk-toggleable__label sk-toggleable__label-arrow\">DaskXGBClassifier</label><div class=\"sk-toggleable__content\"><pre>DaskXGBClassifier(colsample_bytree=0.5, eval_metric=&#x27;auc&#x27;,\n",
       "                  grow_policy=&#x27;lossguide&#x27;, learning_rate=0.001, max_depth=6,\n",
       "                  max_leaves=64, min_child_weight=7, n_estimator=200,\n",
       "                  num_class=3, objective=&#x27;multi:softprob&#x27;, reg_alpha=1,\n",
       "                  reg_lambda=0.5, tree_method=&#x27;gpu_hist&#x27;)</pre></div></div></div></div></div>"
      ],
      "text/plain": [
       "DaskXGBClassifier(colsample_bytree=0.5, eval_metric='auc',\n",
       "                  grow_policy='lossguide', learning_rate=0.001, max_depth=6,\n",
       "                  max_leaves=64, min_child_weight=7, n_estimator=200,\n",
       "                  num_class=3, objective='multi:softprob', reg_alpha=1,\n",
       "                  reg_lambda=0.5, tree_method='gpu_hist')"
      ]
     },
     "execution_count": 12,
     "metadata": {},
     "output_type": "execute_result"
    }
   ],
   "source": [
    "params = {\n",
    "    'n_estimator' : 200,\n",
    "    'objective': 'multi:softmax',\n",
    "    'num_class': 3,\n",
    "    'grow_policy': 'lossguide',\n",
    "    'learning_rate': 0.001,\n",
    "    'max_leaves': 64,\n",
    "    'max_depth': 6,\n",
    "    'eval_metric': 'auc',\n",
    "    'tree_method': 'gpu_hist',\n",
    "    'min_child_weight': 7,\n",
    "    'colsample_bytree': 0.5,\n",
    "    'reg_lambda': 0.5,\n",
    "    'reg_alpha': 1\n",
    "}\n",
    "\n",
    "model = xgb.dask.DaskXGBClassifier(**params)\n",
    "model.client = client\n",
    "model.fit(X_train, y_train)"
   ]
  },
  {
   "cell_type": "code",
   "execution_count": 13,
   "id": "f5e810a5-e0a6-4e7d-bba0-9cea12ad6b60",
   "metadata": {},
   "outputs": [],
   "source": [
    "train_out = model.predict(X_train)"
   ]
  },
  {
   "cell_type": "code",
   "execution_count": 14,
   "id": "86392c18-9111-4575-82e4-8ee022e44835",
   "metadata": {},
   "outputs": [],
   "source": [
    "prediction = model.predict(X_test)"
   ]
  },
  {
   "cell_type": "code",
   "execution_count": 15,
   "id": "87cd1845-610d-4615-b811-2a6b9081505e",
   "metadata": {},
   "outputs": [
    {
     "data": {
      "text/plain": [
       "array([1, 0, 0, ..., 1, 1, 1])"
      ]
     },
     "execution_count": 15,
     "metadata": {},
     "output_type": "execute_result"
    }
   ],
   "source": [
    "cp.array(prediction.compute())"
   ]
  },
  {
   "cell_type": "code",
   "execution_count": 16,
   "id": "82261da3-aeb5-41c3-b834-a05444016986",
   "metadata": {},
   "outputs": [
    {
     "name": "stdout",
     "output_type": "stream",
     "text": [
      "DASK execute time : 0.3988 seconds\n"
     ]
    }
   ],
   "source": [
    "with Timer(\"DASK\"):\n",
    "    out_dd = test_df[[\"id\"]]  \n",
    "    out_dd[\"Target\"] = prediction\n",
    "    out_dd = LabelDecoder(out_dd, i2cat)\n",
    "    out_dd.compute().to_csv(\"./submission.csv\", index=False)"
   ]
  },
  {
   "cell_type": "code",
   "execution_count": 72,
   "id": "634ae388-53fb-4577-84e8-7f27955961c0",
   "metadata": {},
   "outputs": [],
   "source": [
    "def make_cv_splits(ddf:dd.DataFrame, n_folds: int = 5)-> Iterator[tuple[dd.DataFrame, dd.DataFrame]]:\n",
    "    frac = [1 / n_folds] * n_folds\n",
    "    splits = ddf.random_split(frac, shuffle=True)\n",
    "    for i in range(n_folds):\n",
    "        train = [splits[j] for j in range(n_folds) if j != i]\n",
    "        test  = splits[i]\n",
    "        yield dd.concat(train), test\n",
    "        \n",
    "class StackingClassifier(object):\n",
    "    def __init__(self, models={'xgb':xgb.dask.DaskXGBClassifier}, C=10, cv=3):       \n",
    "        self.models          = models\n",
    "        self.cv              = cv\n",
    "        self.C               = C\n",
    "        self.final_estimator = LogisticRegression(C=10)\n",
    "\n",
    "    def fit(self, train_df:dd.DataFrame, test_df:dd.DataFrame):\n",
    "\n",
    "        #Make save pred\n",
    "        self.train_fold_pred = cp.empty([])\n",
    "        self.train_fold_gt   = cp.empty([])\n",
    "        self.test_fold_pred  = cp.zeros([len(test_df), self.cv])\n",
    "            \n",
    "        X_test, _ = self.make_dataset(test_df)\n",
    "        \n",
    "        # K_Fold\n",
    "        scores = []\n",
    "        for i, (train, valid ) in enumerate(make_cv_splits(train_df, self.cv)):\n",
    "            string = f\"Fold {i}\"\n",
    "            # Make Dataset\n",
    "            X_train, y_train = self.make_dataset(train)\n",
    "            X_valid, y_valid = self.make_dataset(valid)\n",
    "            gt, _  = LabelEncoder(valid[[\"Target\"]])\n",
    "            \n",
    "            now_fold_pred = cp.empty([])\n",
    "            now_fold_gt   = cp.empty([])\n",
    "            for model_name, model in self.models:\n",
    "                strings = string + f\" {model_name} Model run...\"\n",
    "                print(strings)\n",
    "                pred_valid, pred_test = self.train_model(model, X_train, y_train, X_valid, X_test)\n",
    "\n",
    "                now_fold_pred        = cp.append(now_fold_pred, cp.array(pred_valid))\n",
    "                now_fold_gt          = cp.append(now_fold_gt, cp.array(gt.compute()[\"Target\"]))\n",
    "                self.test_fold_pred[:, i] = cp.array(pred_test) \n",
    "                \n",
    "            now_fold_pred = now_fold_pred[1:].reshape([len(X_valid), len(self.models)]).T\n",
    "            now_fold_gt   = now_fold_gt[1:].reshape([len(X_valid), len(self.models)]).T\n",
    "            self.train_fold_pred = cp.append(self.train_fold_pred, now_fold_pred)\n",
    "            self.train_fold_gt   = cp.append(self.train_fold_gt, now_fold_gt)\n",
    "\n",
    "            # Make Scores\n",
    "            score = self.accuracy(cp.array(pred_valid), gt.to_dask_array(lengths=True).flatten())\n",
    "            scores.append(score.reshape(1).persist())\n",
    "        print(self.train_fold_pred.shape)\n",
    "            \n",
    "            \n",
    "            # self.train_fold_pred = cp.append(self.train_fold_pred, cp.array(pred_valid))\n",
    "            # self.train_fold_gt   = cp.append(self.train_fold_gt, cp.array(gt.compute()[\"Target\"]))\n",
    "\n",
    "            # self.test_fold_pred[:, i] = cp.array(xgb.dask.predict(self.client, model, dtest)) \n",
    "        \n",
    "            \n",
    "        scores = da.concatenate(scores).compute().mean()\n",
    "\n",
    "    \n",
    "    def train_model(self, model, X:dd.DataFrame, y:dd.DataFrame, vX:dd.DataFrame, tX:dd.DataFrame):\n",
    "        model.fit(X,y)\n",
    "        pred_valid = model.predict(vX.compute())\n",
    "        pred_test  = model.predict(tX.compute())\n",
    "        return  pred_valid.compute(), pred_test.compute()\n",
    "\n",
    "    def accuracy(self, pred, gt):\n",
    "        return ((gt == pred).astype(int).sum() / len(gt))\n",
    "        \n",
    "    def make_dataset(self, ddf:dd.DataFrame) -> dd.DataFrame:\n",
    "        if \"Target\" in ddf.columns:\n",
    "            y, _     = LabelEncoder(ddf[[\"Target\"]])\n",
    "            X        = ddf.drop(columns=[\"Target\", \"id\"])\n",
    "    \n",
    "        else:\n",
    "            y        = None\n",
    "            X        = ddf.drop(columns=[\"id\"]) \n",
    "        X        = StandardScaler(X)\n",
    "        return X.persist(), y[\"Target\"].persist() if y is not None else y"
   ]
  },
  {
   "cell_type": "code",
   "execution_count": 68,
   "id": "1673ee38-3fa8-44ef-84cf-2fd4bddf49f6",
   "metadata": {},
   "outputs": [],
   "source": [
    "model = xgb.dask.DaskXGBClassifier(**params)\n",
    "model.client = client\n",
    "\n",
    "RF_base = RF(n_estimators=200, max_depth=10, n_streams=1)"
   ]
  },
  {
   "cell_type": "code",
   "execution_count": 69,
   "id": "a7cce680-5784-4b06-a877-f1040ca44d46",
   "metadata": {},
   "outputs": [
    {
     "data": {
      "text/html": [
       "<style>#sk-container-id-5 {color: black;}#sk-container-id-5 pre{padding: 0;}#sk-container-id-5 div.sk-toggleable {background-color: white;}#sk-container-id-5 label.sk-toggleable__label {cursor: pointer;display: block;width: 100%;margin-bottom: 0;padding: 0.3em;box-sizing: border-box;text-align: center;}#sk-container-id-5 label.sk-toggleable__label-arrow:before {content: \"▸\";float: left;margin-right: 0.25em;color: #696969;}#sk-container-id-5 label.sk-toggleable__label-arrow:hover:before {color: black;}#sk-container-id-5 div.sk-estimator:hover label.sk-toggleable__label-arrow:before {color: black;}#sk-container-id-5 div.sk-toggleable__content {max-height: 0;max-width: 0;overflow: hidden;text-align: left;background-color: #f0f8ff;}#sk-container-id-5 div.sk-toggleable__content pre {margin: 0.2em;color: black;border-radius: 0.25em;background-color: #f0f8ff;}#sk-container-id-5 input.sk-toggleable__control:checked~div.sk-toggleable__content {max-height: 200px;max-width: 100%;overflow: auto;}#sk-container-id-5 input.sk-toggleable__control:checked~label.sk-toggleable__label-arrow:before {content: \"▾\";}#sk-container-id-5 div.sk-estimator input.sk-toggleable__control:checked~label.sk-toggleable__label {background-color: #d4ebff;}#sk-container-id-5 div.sk-label input.sk-toggleable__control:checked~label.sk-toggleable__label {background-color: #d4ebff;}#sk-container-id-5 input.sk-hidden--visually {border: 0;clip: rect(1px 1px 1px 1px);clip: rect(1px, 1px, 1px, 1px);height: 1px;margin: -1px;overflow: hidden;padding: 0;position: absolute;width: 1px;}#sk-container-id-5 div.sk-estimator {font-family: monospace;background-color: #f0f8ff;border: 1px dotted black;border-radius: 0.25em;box-sizing: border-box;margin-bottom: 0.5em;}#sk-container-id-5 div.sk-estimator:hover {background-color: #d4ebff;}#sk-container-id-5 div.sk-parallel-item::after {content: \"\";width: 100%;border-bottom: 1px solid gray;flex-grow: 1;}#sk-container-id-5 div.sk-label:hover label.sk-toggleable__label {background-color: #d4ebff;}#sk-container-id-5 div.sk-serial::before {content: \"\";position: absolute;border-left: 1px solid gray;box-sizing: border-box;top: 0;bottom: 0;left: 50%;z-index: 0;}#sk-container-id-5 div.sk-serial {display: flex;flex-direction: column;align-items: center;background-color: white;padding-right: 0.2em;padding-left: 0.2em;position: relative;}#sk-container-id-5 div.sk-item {position: relative;z-index: 1;}#sk-container-id-5 div.sk-parallel {display: flex;align-items: stretch;justify-content: center;background-color: white;position: relative;}#sk-container-id-5 div.sk-item::before, #sk-container-id-5 div.sk-parallel-item::before {content: \"\";position: absolute;border-left: 1px solid gray;box-sizing: border-box;top: 0;bottom: 0;left: 50%;z-index: -1;}#sk-container-id-5 div.sk-parallel-item {display: flex;flex-direction: column;z-index: 1;position: relative;background-color: white;}#sk-container-id-5 div.sk-parallel-item:first-child::after {align-self: flex-end;width: 50%;}#sk-container-id-5 div.sk-parallel-item:last-child::after {align-self: flex-start;width: 50%;}#sk-container-id-5 div.sk-parallel-item:only-child::after {width: 0;}#sk-container-id-5 div.sk-dashed-wrapped {border: 1px dashed gray;margin: 0 0.4em 0.5em 0.4em;box-sizing: border-box;padding-bottom: 0.4em;background-color: white;}#sk-container-id-5 div.sk-label label {font-family: monospace;font-weight: bold;display: inline-block;line-height: 1.2em;}#sk-container-id-5 div.sk-label-container {text-align: center;}#sk-container-id-5 div.sk-container {/* jupyter's `normalize.less` sets `[hidden] { display: none; }` but bootstrap.min.css set `[hidden] { display: none !important; }` so we also need the `!important` here to be able to override the default hidden behavior on the sphinx rendered scikit-learn.org. See: https://github.com/scikit-learn/scikit-learn/issues/21755 */display: inline-block !important;position: relative;}#sk-container-id-5 div.sk-text-repr-fallback {display: none;}</style><div id=\"sk-container-id-5\" class=\"sk-top-container\"><div class=\"sk-text-repr-fallback\"><pre>RandomForestClassifier()</pre><b>In a Jupyter environment, please rerun this cell to show the HTML representation or trust the notebook. <br />On GitHub, the HTML representation is unable to render, please try loading this page with nbviewer.org.</b></div><div class=\"sk-container\" hidden><div class=\"sk-item\"><div class=\"sk-estimator sk-toggleable\"><input class=\"sk-toggleable__control sk-hidden--visually\" id=\"sk-estimator-id-5\" type=\"checkbox\" checked><label for=\"sk-estimator-id-5\" class=\"sk-toggleable__label sk-toggleable__label-arrow\">RandomForestClassifier</label><div class=\"sk-toggleable__content\"><pre>RandomForestClassifier()</pre></div></div></div></div></div>"
      ],
      "text/plain": [
       "RandomForestClassifier()"
      ]
     },
     "execution_count": 69,
     "metadata": {},
     "output_type": "execute_result"
    }
   ],
   "source": [
    "RF_base.fit(X_train, y_train)"
   ]
  },
  {
   "cell_type": "code",
   "execution_count": 73,
   "id": "05442b79-fe11-4b7e-abbd-7c70e8d4feb1",
   "metadata": {},
   "outputs": [],
   "source": [
    "stack = StackingClassifier([('xgb', model), ('Random Forest',RF_base)], cv=5)"
   ]
  },
  {
   "cell_type": "code",
   "execution_count": 74,
   "id": "3d24ef30-7e4f-4c23-8ccd-e47656129871",
   "metadata": {
    "scrolled": true
   },
   "outputs": [
    {
     "name": "stdout",
     "output_type": "stream",
     "text": [
      "Fold 0 xgb Model run...\n"
     ]
    },
    {
     "name": "stderr",
     "output_type": "stream",
     "text": [
      "[15:51:39] task [xgboost.dask-0]:tcp://192.168.0.69:37403 got new rank 0\n",
      "[15:51:40] WARNING: /home/conda/feedstock_root/build_artifacts/xgboost-split_1701495763888/work/src/learner.cc:767: \n",
      "Parameters: { \"n_estimator\" } are not used.\n",
      "\n"
     ]
    },
    {
     "ename": "TypeError",
     "evalue": "Expecting <class 'dask.array.core.Array'> or <class 'dask.dataframe.core.DataFrame'>.  Got <class 'cudf.core.dataframe.DataFrame'>",
     "output_type": "error",
     "traceback": [
      "\u001b[0;31m---------------------------------------------------------------------------\u001b[0m",
      "\u001b[0;31mTypeError\u001b[0m                                 Traceback (most recent call last)",
      "Cell \u001b[0;32mIn[74], line 1\u001b[0m\n\u001b[0;32m----> 1\u001b[0m \u001b[43mstack\u001b[49m\u001b[38;5;241;43m.\u001b[39;49m\u001b[43mfit\u001b[49m\u001b[43m(\u001b[49m\u001b[43mtrain_df\u001b[49m\u001b[43m,\u001b[49m\u001b[43m \u001b[49m\u001b[43mtest_df\u001b[49m\u001b[43m)\u001b[49m\n",
      "Cell \u001b[0;32mIn[72], line 39\u001b[0m, in \u001b[0;36mStackingClassifier.fit\u001b[0;34m(self, train_df, test_df)\u001b[0m\n\u001b[1;32m     37\u001b[0m strings \u001b[38;5;241m=\u001b[39m string \u001b[38;5;241m+\u001b[39m \u001b[38;5;124mf\u001b[39m\u001b[38;5;124m\"\u001b[39m\u001b[38;5;124m \u001b[39m\u001b[38;5;132;01m{\u001b[39;00mmodel_name\u001b[38;5;132;01m}\u001b[39;00m\u001b[38;5;124m Model run...\u001b[39m\u001b[38;5;124m\"\u001b[39m\n\u001b[1;32m     38\u001b[0m \u001b[38;5;28mprint\u001b[39m(strings)\n\u001b[0;32m---> 39\u001b[0m pred_valid, pred_test \u001b[38;5;241m=\u001b[39m \u001b[38;5;28;43mself\u001b[39;49m\u001b[38;5;241;43m.\u001b[39;49m\u001b[43mtrain_model\u001b[49m\u001b[43m(\u001b[49m\u001b[43mmodel\u001b[49m\u001b[43m,\u001b[49m\u001b[43m \u001b[49m\u001b[43mX_train\u001b[49m\u001b[43m,\u001b[49m\u001b[43m \u001b[49m\u001b[43my_train\u001b[49m\u001b[43m,\u001b[49m\u001b[43m \u001b[49m\u001b[43mX_valid\u001b[49m\u001b[43m,\u001b[49m\u001b[43m \u001b[49m\u001b[43mX_test\u001b[49m\u001b[43m)\u001b[49m\n\u001b[1;32m     41\u001b[0m now_fold_pred        \u001b[38;5;241m=\u001b[39m cp\u001b[38;5;241m.\u001b[39mappend(now_fold_pred, cp\u001b[38;5;241m.\u001b[39marray(pred_valid))\n\u001b[1;32m     42\u001b[0m now_fold_gt          \u001b[38;5;241m=\u001b[39m cp\u001b[38;5;241m.\u001b[39mappend(now_fold_gt, cp\u001b[38;5;241m.\u001b[39marray(gt\u001b[38;5;241m.\u001b[39mcompute()[\u001b[38;5;124m\"\u001b[39m\u001b[38;5;124mTarget\u001b[39m\u001b[38;5;124m\"\u001b[39m]))\n",
      "Cell \u001b[0;32mIn[72], line 67\u001b[0m, in \u001b[0;36mStackingClassifier.train_model\u001b[0;34m(self, model, X, y, vX, tX)\u001b[0m\n\u001b[1;32m     65\u001b[0m \u001b[38;5;28;01mdef\u001b[39;00m \u001b[38;5;21mtrain_model\u001b[39m(\u001b[38;5;28mself\u001b[39m, model, X:dd\u001b[38;5;241m.\u001b[39mDataFrame, y:dd\u001b[38;5;241m.\u001b[39mDataFrame, vX:dd\u001b[38;5;241m.\u001b[39mDataFrame, tX:dd\u001b[38;5;241m.\u001b[39mDataFrame):\n\u001b[1;32m     66\u001b[0m     model\u001b[38;5;241m.\u001b[39mfit(X,y)\n\u001b[0;32m---> 67\u001b[0m     pred_valid \u001b[38;5;241m=\u001b[39m \u001b[43mmodel\u001b[49m\u001b[38;5;241;43m.\u001b[39;49m\u001b[43mpredict\u001b[49m\u001b[43m(\u001b[49m\u001b[43mvX\u001b[49m\u001b[38;5;241;43m.\u001b[39;49m\u001b[43mcompute\u001b[49m\u001b[43m(\u001b[49m\u001b[43m)\u001b[49m\u001b[43m)\u001b[49m\n\u001b[1;32m     68\u001b[0m     pred_test  \u001b[38;5;241m=\u001b[39m model\u001b[38;5;241m.\u001b[39mpredict(tX\u001b[38;5;241m.\u001b[39mcompute())\n\u001b[1;32m     69\u001b[0m     \u001b[38;5;28;01mreturn\u001b[39;00m  pred_valid\u001b[38;5;241m.\u001b[39mcompute(), pred_test\u001b[38;5;241m.\u001b[39mcompute()\n",
      "File \u001b[0;32m~/anaconda3/envs/rapids/lib/python3.9/site-packages/xgboost/dask.py:1642\u001b[0m, in \u001b[0;36mDaskScikitLearnBase.predict\u001b[0;34m(self, X, output_margin, ntree_limit, validate_features, base_margin, iteration_range)\u001b[0m\n\u001b[1;32m   1640\u001b[0m msg \u001b[38;5;241m=\u001b[39m \u001b[38;5;124m\"\u001b[39m\u001b[38;5;124m`ntree_limit` is not supported on dask, use `iteration_range` instead.\u001b[39m\u001b[38;5;124m\"\u001b[39m\n\u001b[1;32m   1641\u001b[0m \u001b[38;5;28;01massert\u001b[39;00m ntree_limit \u001b[38;5;129;01mis\u001b[39;00m \u001b[38;5;28;01mNone\u001b[39;00m, msg\n\u001b[0;32m-> 1642\u001b[0m \u001b[38;5;28;01mreturn\u001b[39;00m \u001b[38;5;28;43mself\u001b[39;49m\u001b[38;5;241;43m.\u001b[39;49m\u001b[43mclient\u001b[49m\u001b[38;5;241;43m.\u001b[39;49m\u001b[43msync\u001b[49m\u001b[43m(\u001b[49m\n\u001b[1;32m   1643\u001b[0m \u001b[43m    \u001b[49m\u001b[38;5;28;43mself\u001b[39;49m\u001b[38;5;241;43m.\u001b[39;49m\u001b[43m_predict_async\u001b[49m\u001b[43m,\u001b[49m\n\u001b[1;32m   1644\u001b[0m \u001b[43m    \u001b[49m\u001b[43mX\u001b[49m\u001b[43m,\u001b[49m\n\u001b[1;32m   1645\u001b[0m \u001b[43m    \u001b[49m\u001b[43moutput_margin\u001b[49m\u001b[38;5;241;43m=\u001b[39;49m\u001b[43moutput_margin\u001b[49m\u001b[43m,\u001b[49m\n\u001b[1;32m   1646\u001b[0m \u001b[43m    \u001b[49m\u001b[43mvalidate_features\u001b[49m\u001b[38;5;241;43m=\u001b[39;49m\u001b[43mvalidate_features\u001b[49m\u001b[43m,\u001b[49m\n\u001b[1;32m   1647\u001b[0m \u001b[43m    \u001b[49m\u001b[43mbase_margin\u001b[49m\u001b[38;5;241;43m=\u001b[39;49m\u001b[43mbase_margin\u001b[49m\u001b[43m,\u001b[49m\n\u001b[1;32m   1648\u001b[0m \u001b[43m    \u001b[49m\u001b[43miteration_range\u001b[49m\u001b[38;5;241;43m=\u001b[39;49m\u001b[43miteration_range\u001b[49m\u001b[43m,\u001b[49m\n\u001b[1;32m   1649\u001b[0m \u001b[43m\u001b[49m\u001b[43m)\u001b[49m\n",
      "File \u001b[0;32m~/anaconda3/envs/rapids/lib/python3.9/site-packages/distributed/utils.py:358\u001b[0m, in \u001b[0;36mSyncMethodMixin.sync\u001b[0;34m(self, func, asynchronous, callback_timeout, *args, **kwargs)\u001b[0m\n\u001b[1;32m    356\u001b[0m     \u001b[38;5;28;01mreturn\u001b[39;00m future\n\u001b[1;32m    357\u001b[0m \u001b[38;5;28;01melse\u001b[39;00m:\n\u001b[0;32m--> 358\u001b[0m     \u001b[38;5;28;01mreturn\u001b[39;00m \u001b[43msync\u001b[49m\u001b[43m(\u001b[49m\n\u001b[1;32m    359\u001b[0m \u001b[43m        \u001b[49m\u001b[38;5;28;43mself\u001b[39;49m\u001b[38;5;241;43m.\u001b[39;49m\u001b[43mloop\u001b[49m\u001b[43m,\u001b[49m\u001b[43m \u001b[49m\u001b[43mfunc\u001b[49m\u001b[43m,\u001b[49m\u001b[43m \u001b[49m\u001b[38;5;241;43m*\u001b[39;49m\u001b[43margs\u001b[49m\u001b[43m,\u001b[49m\u001b[43m \u001b[49m\u001b[43mcallback_timeout\u001b[49m\u001b[38;5;241;43m=\u001b[39;49m\u001b[43mcallback_timeout\u001b[49m\u001b[43m,\u001b[49m\u001b[43m \u001b[49m\u001b[38;5;241;43m*\u001b[39;49m\u001b[38;5;241;43m*\u001b[39;49m\u001b[43mkwargs\u001b[49m\n\u001b[1;32m    360\u001b[0m \u001b[43m    \u001b[49m\u001b[43m)\u001b[49m\n",
      "File \u001b[0;32m~/anaconda3/envs/rapids/lib/python3.9/site-packages/distributed/utils.py:434\u001b[0m, in \u001b[0;36msync\u001b[0;34m(loop, func, callback_timeout, *args, **kwargs)\u001b[0m\n\u001b[1;32m    431\u001b[0m         wait(\u001b[38;5;241m10\u001b[39m)\n\u001b[1;32m    433\u001b[0m \u001b[38;5;28;01mif\u001b[39;00m error \u001b[38;5;129;01mis\u001b[39;00m \u001b[38;5;129;01mnot\u001b[39;00m \u001b[38;5;28;01mNone\u001b[39;00m:\n\u001b[0;32m--> 434\u001b[0m     \u001b[38;5;28;01mraise\u001b[39;00m error\n\u001b[1;32m    435\u001b[0m \u001b[38;5;28;01melse\u001b[39;00m:\n\u001b[1;32m    436\u001b[0m     \u001b[38;5;28;01mreturn\u001b[39;00m result\n",
      "File \u001b[0;32m~/anaconda3/envs/rapids/lib/python3.9/site-packages/distributed/utils.py:408\u001b[0m, in \u001b[0;36msync.<locals>.f\u001b[0;34m()\u001b[0m\n\u001b[1;32m    406\u001b[0m         awaitable \u001b[38;5;241m=\u001b[39m wait_for(awaitable, timeout)\n\u001b[1;32m    407\u001b[0m     future \u001b[38;5;241m=\u001b[39m asyncio\u001b[38;5;241m.\u001b[39mensure_future(awaitable)\n\u001b[0;32m--> 408\u001b[0m     result \u001b[38;5;241m=\u001b[39m \u001b[38;5;28;01myield\u001b[39;00m future\n\u001b[1;32m    409\u001b[0m \u001b[38;5;28;01mexcept\u001b[39;00m \u001b[38;5;167;01mException\u001b[39;00m \u001b[38;5;28;01mas\u001b[39;00m exception:\n\u001b[1;32m    410\u001b[0m     error \u001b[38;5;241m=\u001b[39m exception\n",
      "File \u001b[0;32m~/anaconda3/envs/rapids/lib/python3.9/site-packages/tornado/gen.py:767\u001b[0m, in \u001b[0;36mRunner.run\u001b[0;34m(self)\u001b[0m\n\u001b[1;32m    765\u001b[0m \u001b[38;5;28;01mtry\u001b[39;00m:\n\u001b[1;32m    766\u001b[0m     \u001b[38;5;28;01mtry\u001b[39;00m:\n\u001b[0;32m--> 767\u001b[0m         value \u001b[38;5;241m=\u001b[39m \u001b[43mfuture\u001b[49m\u001b[38;5;241;43m.\u001b[39;49m\u001b[43mresult\u001b[49m\u001b[43m(\u001b[49m\u001b[43m)\u001b[49m\n\u001b[1;32m    768\u001b[0m     \u001b[38;5;28;01mexcept\u001b[39;00m \u001b[38;5;167;01mException\u001b[39;00m \u001b[38;5;28;01mas\u001b[39;00m e:\n\u001b[1;32m    769\u001b[0m         \u001b[38;5;66;03m# Save the exception for later. It's important that\u001b[39;00m\n\u001b[1;32m    770\u001b[0m         \u001b[38;5;66;03m# gen.throw() not be called inside this try/except block\u001b[39;00m\n\u001b[1;32m    771\u001b[0m         \u001b[38;5;66;03m# because that makes sys.exc_info behave unexpectedly.\u001b[39;00m\n\u001b[1;32m    772\u001b[0m         exc: Optional[\u001b[38;5;167;01mException\u001b[39;00m] \u001b[38;5;241m=\u001b[39m e\n",
      "File \u001b[0;32m~/anaconda3/envs/rapids/lib/python3.9/site-packages/xgboost/dask.py:2000\u001b[0m, in \u001b[0;36mDaskXGBClassifier._predict_async\u001b[0;34m(self, data, output_margin, validate_features, base_margin, iteration_range)\u001b[0m\n\u001b[1;32m   1992\u001b[0m \u001b[38;5;28;01masync\u001b[39;00m \u001b[38;5;28;01mdef\u001b[39;00m \u001b[38;5;21m_predict_async\u001b[39m(\n\u001b[1;32m   1993\u001b[0m     \u001b[38;5;28mself\u001b[39m,\n\u001b[1;32m   1994\u001b[0m     data: _DataT,\n\u001b[0;32m   (...)\u001b[0m\n\u001b[1;32m   1998\u001b[0m     iteration_range: Optional[Tuple[\u001b[38;5;28mint\u001b[39m, \u001b[38;5;28mint\u001b[39m]],\n\u001b[1;32m   1999\u001b[0m ) \u001b[38;5;241m-\u001b[39m\u001b[38;5;241m>\u001b[39m _DaskCollection:\n\u001b[0;32m-> 2000\u001b[0m     pred_probs \u001b[38;5;241m=\u001b[39m \u001b[38;5;28;01mawait\u001b[39;00m \u001b[38;5;28msuper\u001b[39m()\u001b[38;5;241m.\u001b[39m_predict_async(\n\u001b[1;32m   2001\u001b[0m         data, output_margin, validate_features, base_margin, iteration_range\n\u001b[1;32m   2002\u001b[0m     )\n\u001b[1;32m   2003\u001b[0m     \u001b[38;5;28;01mif\u001b[39;00m output_margin:\n\u001b[1;32m   2004\u001b[0m         \u001b[38;5;28;01mreturn\u001b[39;00m pred_probs\n",
      "File \u001b[0;32m~/anaconda3/envs/rapids/lib/python3.9/site-packages/xgboost/dask.py:1600\u001b[0m, in \u001b[0;36mDaskScikitLearnBase._predict_async\u001b[0;34m(self, data, output_margin, validate_features, base_margin, iteration_range)\u001b[0m\n\u001b[1;32m   1598\u001b[0m iteration_range \u001b[38;5;241m=\u001b[39m \u001b[38;5;28mself\u001b[39m\u001b[38;5;241m.\u001b[39m_get_iteration_range(iteration_range)\n\u001b[1;32m   1599\u001b[0m \u001b[38;5;28;01mif\u001b[39;00m \u001b[38;5;28mself\u001b[39m\u001b[38;5;241m.\u001b[39m_can_use_inplace_predict():\n\u001b[0;32m-> 1600\u001b[0m     predts \u001b[38;5;241m=\u001b[39m \u001b[38;5;28;01mawait\u001b[39;00m inplace_predict(\n\u001b[1;32m   1601\u001b[0m         client\u001b[38;5;241m=\u001b[39m\u001b[38;5;28mself\u001b[39m\u001b[38;5;241m.\u001b[39mclient,\n\u001b[1;32m   1602\u001b[0m         model\u001b[38;5;241m=\u001b[39m\u001b[38;5;28mself\u001b[39m\u001b[38;5;241m.\u001b[39mget_booster(),\n\u001b[1;32m   1603\u001b[0m         data\u001b[38;5;241m=\u001b[39mdata,\n\u001b[1;32m   1604\u001b[0m         iteration_range\u001b[38;5;241m=\u001b[39miteration_range,\n\u001b[1;32m   1605\u001b[0m         predict_type\u001b[38;5;241m=\u001b[39m\u001b[38;5;124m\"\u001b[39m\u001b[38;5;124mmargin\u001b[39m\u001b[38;5;124m\"\u001b[39m \u001b[38;5;28;01mif\u001b[39;00m output_margin \u001b[38;5;28;01melse\u001b[39;00m \u001b[38;5;124m\"\u001b[39m\u001b[38;5;124mvalue\u001b[39m\u001b[38;5;124m\"\u001b[39m,\n\u001b[1;32m   1606\u001b[0m         missing\u001b[38;5;241m=\u001b[39m\u001b[38;5;28mself\u001b[39m\u001b[38;5;241m.\u001b[39mmissing,\n\u001b[1;32m   1607\u001b[0m         base_margin\u001b[38;5;241m=\u001b[39mbase_margin,\n\u001b[1;32m   1608\u001b[0m         validate_features\u001b[38;5;241m=\u001b[39mvalidate_features,\n\u001b[1;32m   1609\u001b[0m     )\n\u001b[1;32m   1610\u001b[0m     \u001b[38;5;28;01mif\u001b[39;00m \u001b[38;5;28misinstance\u001b[39m(predts, dd\u001b[38;5;241m.\u001b[39mDataFrame):\n\u001b[1;32m   1611\u001b[0m         predts \u001b[38;5;241m=\u001b[39m predts\u001b[38;5;241m.\u001b[39mto_dask_array()\n",
      "File \u001b[0;32m~/anaconda3/envs/rapids/lib/python3.9/site-packages/xgboost/dask.py:1440\u001b[0m, in \u001b[0;36m_inplace_predict_async\u001b[0;34m(client, global_config, model, data, iteration_range, predict_type, missing, validate_features, base_margin, strict_shape)\u001b[0m\n\u001b[1;32m   1438\u001b[0m booster \u001b[38;5;241m=\u001b[39m \u001b[38;5;28;01mawait\u001b[39;00m _get_model_future(client, model)\n\u001b[1;32m   1439\u001b[0m \u001b[38;5;28;01mif\u001b[39;00m \u001b[38;5;129;01mnot\u001b[39;00m \u001b[38;5;28misinstance\u001b[39m(data, (da\u001b[38;5;241m.\u001b[39mArray, dd\u001b[38;5;241m.\u001b[39mDataFrame)):\n\u001b[0;32m-> 1440\u001b[0m     \u001b[38;5;28;01mraise\u001b[39;00m \u001b[38;5;167;01mTypeError\u001b[39;00m(_expect([da\u001b[38;5;241m.\u001b[39mArray, dd\u001b[38;5;241m.\u001b[39mDataFrame], \u001b[38;5;28mtype\u001b[39m(data)))\n\u001b[1;32m   1441\u001b[0m \u001b[38;5;28;01mif\u001b[39;00m base_margin \u001b[38;5;129;01mis\u001b[39;00m \u001b[38;5;129;01mnot\u001b[39;00m \u001b[38;5;28;01mNone\u001b[39;00m \u001b[38;5;129;01mand\u001b[39;00m \u001b[38;5;129;01mnot\u001b[39;00m \u001b[38;5;28misinstance\u001b[39m(\n\u001b[1;32m   1442\u001b[0m     data, (da\u001b[38;5;241m.\u001b[39mArray, dd\u001b[38;5;241m.\u001b[39mDataFrame, dd\u001b[38;5;241m.\u001b[39mSeries)\n\u001b[1;32m   1443\u001b[0m ):\n\u001b[1;32m   1444\u001b[0m     \u001b[38;5;28;01mraise\u001b[39;00m \u001b[38;5;167;01mTypeError\u001b[39;00m(_expect([da\u001b[38;5;241m.\u001b[39mArray, dd\u001b[38;5;241m.\u001b[39mDataFrame, dd\u001b[38;5;241m.\u001b[39mSeries], \u001b[38;5;28mtype\u001b[39m(base_margin)))\n",
      "\u001b[0;31mTypeError\u001b[0m: Expecting <class 'dask.array.core.Array'> or <class 'dask.dataframe.core.DataFrame'>.  Got <class 'cudf.core.dataframe.DataFrame'>"
     ]
    }
   ],
   "source": [
    "stack.fit(train_df, test_df)"
   ]
  },
  {
   "cell_type": "code",
   "execution_count": null,
   "id": "2acc42a6-6e02-46b9-93a5-20f1e6deb861",
   "metadata": {},
   "outputs": [],
   "source": []
  }
 ],
 "metadata": {
  "kernelspec": {
   "display_name": "Python 3 (ipykernel)",
   "language": "python",
   "name": "python3"
  },
  "language_info": {
   "codemirror_mode": {
    "name": "ipython",
    "version": 3
   },
   "file_extension": ".py",
   "mimetype": "text/x-python",
   "name": "python",
   "nbconvert_exporter": "python",
   "pygments_lexer": "ipython3",
   "version": "3.9.18"
  }
 },
 "nbformat": 4,
 "nbformat_minor": 5
}
