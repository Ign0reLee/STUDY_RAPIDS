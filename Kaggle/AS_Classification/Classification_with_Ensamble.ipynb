{
 "cells": [
  {
   "cell_type": "code",
   "execution_count": 1,
   "id": "2e774a28-b896-4373-b415-4d78b523f086",
   "metadata": {},
   "outputs": [],
   "source": [
    "# This Python 3 environment comes with many helpful analytics libraries installed\n",
    "# It is defined by the kaggle/python Docker image: https://github.com/kaggle/docker-python\n",
    "# For example, here's several helpful packages to load\n",
    "\n",
    "import time\n",
    "import logging\n",
    "import subprocess\n",
    "import numpy as np\n",
    "import warnings\n",
    "warnings.filterwarnings(action='ignore')\n",
    "import numpy as np # linear algebra\n",
    "import pandas as pd # data processing, CSV file I/O (e.g. pd.read_csv)\n",
    "\n",
    "from collections.abc import Iterator\n",
    "\n",
    "# Input data files are available in the read-only \"../input/\" directory\n",
    "# For example, running this (by clicking run or pressing Shift+Enter) will list all files under the input directory\n",
    "\n",
    "# You can write up to 20GB to the current directory (/kaggle/working/) that gets preserved as output when you create a version using \"Save & Run All\" \n",
    "# You can also write temporary files to /kaggle/temp/, but they won't be saved outside of the current session\n",
    "\n",
    "# For GPU array computation\n",
    "import cupy as cp\n",
    "\n",
    "# For GPU dataframe operation\n",
    "import cudf\n",
    "\n",
    "# For GPU Model\n",
    "from cuml.ensemble    import RandomForestClassifier as RF\n",
    "\n",
    "# Default DASK Libraries and set use GPU's\n",
    "import dask\n",
    "import dask_cudf\n",
    "import dask.array as da\n",
    "import dask.dataframe as dd\n",
    "dask.config.set({\"dataframe.backend\": \"cudf\"})\n",
    "\n",
    "# Set for Multi GPU use\n",
    "from dask_cuda        import LocalCUDACluster\n",
    "from dask.distributed import Client, wait, progress\n",
    "\n",
    "# Dask Machine Learning Libraries\n",
    "import dask_ml\n",
    "from dask_ml.preprocessing   import StandardScaler\n",
    "from dask_ml.metrics         import mean_squared_error \n",
    "from dask_ml.model_selection import train_test_split\n",
    "from dask_ml.model_selection import GridSearchCV as GSCV\n",
    "\n",
    "# For Train XGBoost\n",
    "import xgboost as xgb\n",
    "\n",
    "# For Visualization\n",
    "%matplotlib inline\n",
    "import matplotlib\n",
    "import matplotlib.pyplot as plt\n",
    "import graphviz\n"
   ]
  },
  {
   "cell_type": "code",
   "execution_count": 2,
   "id": "f8e2c954-1e14-4081-8c72-04e52e695ecf",
   "metadata": {},
   "outputs": [],
   "source": [
    "cmd = \"hostname --all-ip-addresses\"\n",
    "process = subprocess.Popen(cmd.split(), stdout=subprocess.PIPE)\n",
    "output, error = process.communicate()\n",
    "IPADDR = str(output.decode()).split()[0]\n",
    "\n",
    "cluster = LocalCUDACluster(ip=IPADDR, silence_logs=logging.ERROR)\n",
    "client = Client(cluster)"
   ]
  },
  {
   "cell_type": "code",
   "execution_count": 3,
   "id": "d413b282-2153-4d98-bd90-a2511320c1be",
   "metadata": {},
   "outputs": [],
   "source": [
    "class Timer:\n",
    "    def __init__(self, name=\"cpu\"):\n",
    "        self.name = name\n",
    "        \n",
    "    def __enter__(self):\n",
    "        self.start = time.perf_counter()\n",
    "        \n",
    "    def __exit__(self, type, value, trackback):\n",
    "        self.end = time.perf_counter()\n",
    "        self.execute_time = self.end - self.start\n",
    "        print(f\"{self.name} execute time : {self.execute_time:.4f} seconds\")"
   ]
  },
  {
   "cell_type": "code",
   "execution_count": 4,
   "id": "3fe81526-f8c8-436a-9cfb-54110dfe2634",
   "metadata": {},
   "outputs": [],
   "source": [
    "train_path = \"/media/HDD2/Data/AS_Dataset/train.csv\"\n",
    "test_path  = \"/media/HDD2/Data/AS_Dataset/test.csv\""
   ]
  },
  {
   "cell_type": "code",
   "execution_count": 5,
   "id": "16ab5361-8107-4371-b88e-6896bb426af7",
   "metadata": {},
   "outputs": [
    {
     "name": "stdout",
     "output_type": "stream",
     "text": [
      "DASK execute time : 0.0627 seconds\n"
     ]
    }
   ],
   "source": [
    "with Timer(\"DASK\"):\n",
    "    train_df = dd.read_csv(train_path)\n",
    "    test_df  = dd.read_csv(test_path)"
   ]
  },
  {
   "cell_type": "code",
   "execution_count": 6,
   "id": "cad7ddec-d986-44c9-9efa-e30b3f424e27",
   "metadata": {},
   "outputs": [
    {
     "data": {
      "image/png": "[encoded data removed]",
      "text/plain": [
       "<IPython.core.display.Image object>"
      ]
     },
     "execution_count": 6,
     "metadata": {},
     "output_type": "execute_result"
    }
   ],
   "source": [
    "train_df.visualize()"
   ]
  },
  {
   "cell_type": "code",
   "execution_count": 7,
   "id": "925a22d0-f993-4222-ae20-58809069fc36",
   "metadata": {},
   "outputs": [
    {
     "name": "stdout",
     "output_type": "stream",
     "text": [
      "DASK execute time : 0.0279 seconds\n"
     ]
    }
   ],
   "source": [
    "with Timer(\"DASK\"):\n",
    "    train_df = dd.read_csv(train_path)\n",
    "    test_df  = dd.read_csv(test_path)"
   ]
  },
  {
   "cell_type": "code",
   "execution_count": 8,
   "id": "e4c82818-26b3-4ffb-bce5-e9b459a8059b",
   "metadata": {},
   "outputs": [
    {
     "data": {
      "image/png": "[encoded data removed]",
      "text/plain": [
       "<IPython.core.display.Image object>"
      ]
     },
     "execution_count": 8,
     "metadata": {},
     "output_type": "execute_result"
    }
   ],
   "source": [
    "train_df.visualize()"
   ]
  },
  {
   "cell_type": "code",
   "execution_count": 9,
   "id": "82ac2bc5-110d-459b-9067-7d5c41795911",
   "metadata": {},
   "outputs": [],
   "source": [
    "def LabelEncoder(ddf:dd.DataFrame)->dd.DataFrame:\n",
    "    columns = ddf.columns\n",
    "    for c in columns:\n",
    "        categories = ddf[c].compute().unique()\n",
    "        cat2i   = {c : i for i, c in enumerate(categories.values_host)}\n",
    "        i2cat   = {i : c for c, i in cat2i.items()}\n",
    "        ddf[c] = ddf[c].map(cat2i)\n",
    "    return ddf, i2cat\n",
    "\n",
    "def LabelDecoder(ddf:dd.DataFrame, i2cat:dict) -> dd.DataFrame:\n",
    "    ddf[\"Target\"] = ddf[\"Target\"].map(i2cat)\n",
    "    return ddf\n",
    "\n",
    "def StandardScaler(ddf:dd.DataFrame) -> dd.DataFrame:\n",
    "    columns = ddf.columns\n",
    "    for c in columns:\n",
    "        mean = ddf[c].mean()\n",
    "        std  = ddf[c].std()\n",
    "        ddf[c]   = (ddf[c] - mean) / std\n",
    "    return ddf"
   ]
  },
  {
   "cell_type": "code",
   "execution_count": 10,
   "id": "cce0c9a0-f1e0-4a89-ae72-ba749efa72ca",
   "metadata": {},
   "outputs": [
    {
     "name": "stdout",
     "output_type": "stream",
     "text": [
      "DASK execute time : 1.5619 seconds\n"
     ]
    }
   ],
   "source": [
    "with Timer(\"DASK\"):\n",
    "    train_df.dropna()\n",
    "    y_train, i2cat = LabelEncoder(train_df[[\"Target\"]])\n",
    "    X_train        = train_df.drop(columns=[\"Target\", \"id\"])\n",
    "    X_train        = StandardScaler(X_train)\n",
    "    X_test         = test_df.drop(columns=[\"id\"])\n",
    "    \n",
    "X_train = X_train.persist()\n",
    "X_test  = X_test.persist()\n",
    "y_train = y_train[\"Target\"].persist()\n"
   ]
  },
  {
   "cell_type": "code",
   "execution_count": 11,
   "id": "c074d3a9-7f24-46e0-8a5c-72d6facb04e6",
   "metadata": {},
   "outputs": [],
   "source": [
    "X_train = X_train.persist()\n",
    "y_train = y_train.persist()\n",
    "X_test  = X_test.persist()"
   ]
  },
  {
   "cell_type": "code",
   "execution_count": 18,
   "id": "53d5fc1b-d9ce-4076-a86e-3d24cdab8f40",
   "metadata": {},
   "outputs": [
    {
     "name": "stderr",
     "output_type": "stream",
     "text": [
      "[14:16:32] task [xgboost.dask-1]:tcp://192.168.0.69:34837 got new rank 0\n",
      "[14:16:32] WARNING: /home/conda/feedstock_root/build_artifacts/xgboost-split_1701495763888/work/src/learner.cc:767: \n",
      "Parameters: { \"n_estimator\" } are not used.\n",
      "\n"
     ]
    },
    {
     "data": {
      "text/html": [
       "<style>#sk-container-id-3 {color: black;}#sk-container-id-3 pre{padding: 0;}#sk-container-id-3 div.sk-toggleable {background-color: white;}#sk-container-id-3 label.sk-toggleable__label {cursor: pointer;display: block;width: 100%;margin-bottom: 0;padding: 0.3em;box-sizing: border-box;text-align: center;}#sk-container-id-3 label.sk-toggleable__label-arrow:before {content: \"▸\";float: left;margin-right: 0.25em;color: #696969;}#sk-container-id-3 label.sk-toggleable__label-arrow:hover:before {color: black;}#sk-container-id-3 div.sk-estimator:hover label.sk-toggleable__label-arrow:before {color: black;}#sk-container-id-3 div.sk-toggleable__content {max-height: 0;max-width: 0;overflow: hidden;text-align: left;background-color: #f0f8ff;}#sk-container-id-3 div.sk-toggleable__content pre {margin: 0.2em;color: black;border-radius: 0.25em;background-color: #f0f8ff;}#sk-container-id-3 input.sk-toggleable__control:checked~div.sk-toggleable__content {max-height: 200px;max-width: 100%;overflow: auto;}#sk-container-id-3 input.sk-toggleable__control:checked~label.sk-toggleable__label-arrow:before {content: \"▾\";}#sk-container-id-3 div.sk-estimator input.sk-toggleable__control:checked~label.sk-toggleable__label {background-color: #d4ebff;}#sk-container-id-3 div.sk-label input.sk-toggleable__control:checked~label.sk-toggleable__label {background-color: #d4ebff;}#sk-container-id-3 input.sk-hidden--visually {border: 0;clip: rect(1px 1px 1px 1px);clip: rect(1px, 1px, 1px, 1px);height: 1px;margin: -1px;overflow: hidden;padding: 0;position: absolute;width: 1px;}#sk-container-id-3 div.sk-estimator {font-family: monospace;background-color: #f0f8ff;border: 1px dotted black;border-radius: 0.25em;box-sizing: border-box;margin-bottom: 0.5em;}#sk-container-id-3 div.sk-estimator:hover {background-color: #d4ebff;}#sk-container-id-3 div.sk-parallel-item::after {content: \"\";width: 100%;border-bottom: 1px solid gray;flex-grow: 1;}#sk-container-id-3 div.sk-label:hover label.sk-toggleable__label {background-color: #d4ebff;}#sk-container-id-3 div.sk-serial::before {content: \"\";position: absolute;border-left: 1px solid gray;box-sizing: border-box;top: 0;bottom: 0;left: 50%;z-index: 0;}#sk-container-id-3 div.sk-serial {display: flex;flex-direction: column;align-items: center;background-color: white;padding-right: 0.2em;padding-left: 0.2em;position: relative;}#sk-container-id-3 div.sk-item {position: relative;z-index: 1;}#sk-container-id-3 div.sk-parallel {display: flex;align-items: stretch;justify-content: center;background-color: white;position: relative;}#sk-container-id-3 div.sk-item::before, #sk-container-id-3 div.sk-parallel-item::before {content: \"\";position: absolute;border-left: 1px solid gray;box-sizing: border-box;top: 0;bottom: 0;left: 50%;z-index: -1;}#sk-container-id-3 div.sk-parallel-item {display: flex;flex-direction: column;z-index: 1;position: relative;background-color: white;}#sk-container-id-3 div.sk-parallel-item:first-child::after {align-self: flex-end;width: 50%;}#sk-container-id-3 div.sk-parallel-item:last-child::after {align-self: flex-start;width: 50%;}#sk-container-id-3 div.sk-parallel-item:only-child::after {width: 0;}#sk-container-id-3 div.sk-dashed-wrapped {border: 1px dashed gray;margin: 0 0.4em 0.5em 0.4em;box-sizing: border-box;padding-bottom: 0.4em;background-color: white;}#sk-container-id-3 div.sk-label label {font-family: monospace;font-weight: bold;display: inline-block;line-height: 1.2em;}#sk-container-id-3 div.sk-label-container {text-align: center;}#sk-container-id-3 div.sk-container {/* jupyter's `normalize.less` sets `[hidden] { display: none; }` but bootstrap.min.css set `[hidden] { display: none !important; }` so we also need the `!important` here to be able to override the default hidden behavior on the sphinx rendered scikit-learn.org. See: https://github.com/scikit-learn/scikit-learn/issues/21755 */display: inline-block !important;position: relative;}#sk-container-id-3 div.sk-text-repr-fallback {display: none;}</style><div id=\"sk-container-id-3\" class=\"sk-top-container\"><div class=\"sk-text-repr-fallback\"><pre>DaskXGBClassifier(colsample_bytree=0.5, eval_metric=&#x27;auc&#x27;,\n",
       "                  grow_policy=&#x27;lossguide&#x27;, learning_rate=0.001, max_depth=6,\n",
       "                  max_leaves=64, min_child_weight=7, n_estimator=200,\n",
       "                  num_class=3, objective=&#x27;multi:softprob&#x27;, reg_alpha=1,\n",
       "                  reg_lambda=0.5, tree_method=&#x27;gpu_hist&#x27;, verbosity=2)</pre><b>In a Jupyter environment, please rerun this cell to show the HTML representation or trust the notebook. <br />On GitHub, the HTML representation is unable to render, please try loading this page with nbviewer.org.</b></div><div class=\"sk-container\" hidden><div class=\"sk-item\"><div class=\"sk-estimator sk-toggleable\"><input class=\"sk-toggleable__control sk-hidden--visually\" id=\"sk-estimator-id-3\" type=\"checkbox\" checked><label for=\"sk-estimator-id-3\" class=\"sk-toggleable__label sk-toggleable__label-arrow\">DaskXGBClassifier</label><div class=\"sk-toggleable__content\"><pre>DaskXGBClassifier(colsample_bytree=0.5, eval_metric=&#x27;auc&#x27;,\n",
       "                  grow_policy=&#x27;lossguide&#x27;, learning_rate=0.001, max_depth=6,\n",
       "                  max_leaves=64, min_child_weight=7, n_estimator=200,\n",
       "                  num_class=3, objective=&#x27;multi:softprob&#x27;, reg_alpha=1,\n",
       "                  reg_lambda=0.5, tree_method=&#x27;gpu_hist&#x27;, verbosity=2)</pre></div></div></div></div></div>"
      ],
      "text/plain": [
       "DaskXGBClassifier(colsample_bytree=0.5, eval_metric='auc',\n",
       "                  grow_policy='lossguide', learning_rate=0.001, max_depth=6,\n",
       "                  max_leaves=64, min_child_weight=7, n_estimator=200,\n",
       "                  num_class=3, objective='multi:softprob', reg_alpha=1,\n",
       "                  reg_lambda=0.5, tree_method='gpu_hist', verbosity=2)"
      ]
     },
     "execution_count": 18,
     "metadata": {},
     "output_type": "execute_result"
    }
   ],
   "source": [
    "params = {\n",
    "    'verbosity': 2,\n",
    "    'n_estimator' : 200,\n",
    "    'objective': 'multi:softmax',\n",
    "    'num_class': 3,\n",
    "    'grow_policy': 'lossguide',\n",
    "    'learning_rate': 0.001,\n",
    "    'max_leaves': 64,\n",
    "    'max_depth': 6,\n",
    "    'eval_metric': 'auc',\n",
    "    'tree_method': 'gpu_hist',\n",
    "    'min_child_weight': 7,\n",
    "    'colsample_bytree': 0.5,\n",
    "    'reg_lambda': 0.5,\n",
    "    'reg_alpha': 1\n",
    "}\n",
    "\n",
    "model = xgb.dask.DaskXGBClassifier(**params)\n",
    "model.client = client\n",
    "model.fit(X_train, y_train)"
   ]
  },
  {
   "cell_type": "code",
   "execution_count": 26,
   "id": "f5e810a5-e0a6-4e7d-bba0-9cea12ad6b60",
   "metadata": {},
   "outputs": [],
   "source": [
    "train_out = model.predict(X_train)"
   ]
  },
  {
   "cell_type": "code",
   "execution_count": 23,
   "id": "86392c18-9111-4575-82e4-8ee022e44835",
   "metadata": {},
   "outputs": [],
   "source": [
    "prediction = model.predict(X_test)"
   ]
  },
  {
   "cell_type": "code",
   "execution_count": 24,
   "id": "82261da3-aeb5-41c3-b834-a05444016986",
   "metadata": {},
   "outputs": [
    {
     "name": "stdout",
     "output_type": "stream",
     "text": [
      "DASK execute time : 0.3970 seconds\n"
     ]
    }
   ],
   "source": [
    "with Timer(\"DASK\"):\n",
    "    out_dd = test_df[[\"id\"]]  \n",
    "    out_dd[\"Target\"] = prediction\n",
    "    out_dd = LabelDecoder(out_dd, i2cat)\n",
    "    out_dd.compute().to_csv(\"./submission.csv\", index=False)"
   ]
  }
 ],
 "metadata": {
  "kernelspec": {
   "display_name": "Python 3 (ipykernel)",
   "language": "python",
   "name": "python3"
  },
  "language_info": {
   "codemirror_mode": {
    "name": "ipython",
    "version": 3
   },
   "file_extension": ".py",
   "mimetype": "text/x-python",
   "name": "python",
   "nbconvert_exporter": "python",
   "pygments_lexer": "ipython3",
   "version": "3.9.18"
  }
 },
 "nbformat": 4,
 "nbformat_minor": 5
}
