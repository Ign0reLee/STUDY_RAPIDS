{
 "cells": [
  {
   "cell_type": "code",
   "execution_count": 1,
   "id": "5f011cf0-c54c-4e07-9db0-f6550dd39d54",
   "metadata": {},
   "outputs": [],
   "source": [
    "import os\n",
    "import time\n",
    "import json\n",
    "\n",
    "import cupy as cp\n",
    "import numpy as np\n",
    "\n",
    "import cudf\n",
    "import dask\n",
    "import dask_cudf\n",
    "import dask.dataframe as dd\n",
    "dask.config.set({\"dataframe.backend\": \"cudf\"})\n",
    "\n",
    "import pandas as pd"
   ]
  },
  {
   "cell_type": "code",
   "execution_count": 2,
   "id": "1a079db4-e641-4352-9a41-f8d64d7d7fc0",
   "metadata": {},
   "outputs": [],
   "source": [
    "class Timer:\n",
    "    def __init__(self, name=\"cpu\"):\n",
    "        self.name = name\n",
    "        \n",
    "    def __enter__(self):\n",
    "        self.start = time.perf_counter()\n",
    "        \n",
    "    def __exit__(self, type, value, trackback):\n",
    "        self.end = time.perf_counter()\n",
    "        self.execute_time = self.end - self.start\n",
    "        print(f\"{self.name} execute time : {self.execute_time:.4f} seconds\")\n"
   ]
  },
  {
   "cell_type": "code",
   "execution_count": 5,
   "id": "4cf798c1-c7c5-4e2b-9641-a8c898f94d2c",
   "metadata": {},
   "outputs": [],
   "source": [
    "data_path  = '/media/HDD2/Data/OTTO/archive/otto-recsys-train.jsonl'"
   ]
  },
  {
   "cell_type": "code",
   "execution_count": 8,
   "id": "a17f57e0-c88d-46f7-a05a-cac1dbb2de7b",
   "metadata": {},
   "outputs": [
    {
     "name": "stdout",
     "output_type": "stream",
     "text": [
      "cpu execute time : 28.8132 seconds\n",
      "gpu execute time : 4.4809 seconds\n"
     ]
    }
   ],
   "source": [
    "with Timer(name=\"cpu\") as cpu_time:\n",
    "    df =  pd.read_json(data_path, lines=True)\n",
    "    \n",
    "with Timer(name=\"gpu\") as gpu_time:\n",
    "    gdf = cudf.read_json(data_path, lines=True)"
   ]
  },
  {
   "cell_type": "code",
   "execution_count": 9,
   "id": "38b6e47b-e962-4e43-87d5-4f0f6ac2a36a",
   "metadata": {},
   "outputs": [
    {
     "name": "stdout",
     "output_type": "stream",
     "text": [
      "cpu execute time : 8.2073 seconds\n",
      "gpu execute time : 1.6177 seconds\n"
     ]
    }
   ],
   "source": [
    "with Timer(name=\"cpu\") as cpu_time:\n",
    "    df.to_parquet(os.path.join('data','train.parquet'))\n",
    "    \n",
    "with Timer(name=\"gpu\") as gpu_time:\n",
    "    gdf.to_parquet(os.path.join('data','train.parquet'))"
   ]
  },
  {
   "cell_type": "code",
   "execution_count": 11,
   "id": "7b723059-9b30-414c-b1e6-5c9f311ac09a",
   "metadata": {},
   "outputs": [
    {
     "name": "stdout",
     "output_type": "stream",
     "text": [
      "cpu execute time : 10.4138 seconds\n",
      "gpu execute time : 0.3840 seconds\n"
     ]
    }
   ],
   "source": [
    "with Timer(name=\"cpu\") as cpu_time:\n",
    "    df =  pd.read_parquet(os.path.join('data','train.parquet'))\n",
    "    \n",
    "with Timer(name=\"gpu\") as gpu_time:\n",
    "    gdf = cudf.read_parquet(os.path.join('data','train.parquet'))"
   ]
  }
 ],
 "metadata": {
  "kernelspec": {
   "display_name": "Python 3 (ipykernel)",
   "language": "python",
   "name": "python3"
  },
  "language_info": {
   "codemirror_mode": {
    "name": "ipython",
    "version": 3
   },
   "file_extension": ".py",
   "mimetype": "text/x-python",
   "name": "python",
   "nbconvert_exporter": "python",
   "pygments_lexer": "ipython3",
   "version": "3.9.18"
  }
 },
 "nbformat": 4,
 "nbformat_minor": 5
}
